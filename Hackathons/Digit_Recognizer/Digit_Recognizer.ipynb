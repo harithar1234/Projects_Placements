{
  "cells": [
    {
      "cell_type": "markdown",
      "source": [
        "Digit Recognizer\n"
      ],
      "metadata": {
        "id": "Ygy4UE4sDSyA"
      }
    },
    {
      "cell_type": "code",
      "execution_count": null,
      "metadata": {
        "id": "-Qu-0Hkx3Heo"
      },
      "outputs": [],
      "source": [
        "import pandas as pd\n",
        "import numpy as np\n",
        "from sklearn.model_selection import train_test_split\n",
        "from keras.models import Sequential\n",
        "from keras.layers import Conv2D, MaxPool2D, Flatten, Dense , Dropout, BatchNormalization\n",
        "import matplotlib.pyplot as plt\n",
        "from keras.datasets import mnist\n"
      ]
    },
    {
      "cell_type": "code",
      "execution_count": 16,
      "metadata": {
        "id": "dBXochqU3UkV"
      },
      "outputs": [],
      "source": [
        "# Load the data\n",
        "train_data = pd.read_csv('train.csv')\n",
        "test_data = pd.read_csv('test.csv')"
      ]
    },
    {
      "cell_type": "code",
      "execution_count": 6,
      "metadata": {
        "id": "Z3U3aHim3rHW",
        "colab": {
          "base_uri": "https://localhost:8080/"
        },
        "outputId": "c7517d7b-8cbc-4645-a925-877e31642a37"
      },
      "outputs": [
        {
          "output_type": "stream",
          "name": "stdout",
          "text": [
            "Training data size is (42000, 785)\n",
            "Testing data size is (28000, 784)\n"
          ]
        }
      ],
      "source": [
        "print(f\"Training data size is {train_data.shape}\\nTesting data size is {test_data.shape}\")"
      ]
    },
    {
      "cell_type": "code",
      "execution_count": 7,
      "metadata": {
        "id": "ul-oDAs636dY"
      },
      "outputs": [],
      "source": [
        "Y_train_data = train_data[\"label\"]\n",
        "X_train_data = train_data.drop(labels = [\"label\"], axis = 1)\n"
      ]
    },
    {
      "cell_type": "code",
      "execution_count": 8,
      "metadata": {
        "id": "kDz7uise4DK_",
        "colab": {
          "base_uri": "https://localhost:8080/"
        },
        "outputId": "eacb6d2f-34ac-4fe7-a760-ff2dc52d9437"
      },
      "outputs": [
        {
          "output_type": "stream",
          "name": "stdout",
          "text": [
            "Downloading data from https://storage.googleapis.com/tensorflow/tf-keras-datasets/mnist.npz\n",
            "11490434/11490434 [==============================] - 0s 0us/step\n"
          ]
        }
      ],
      "source": [
        "(x_train1_mnist, y_train1_mnist), (x_test1_mnist, y_test1_mnist) = mnist.load_data()\n",
        "\n",
        "X_train_mnist = np.concatenate([x_train1_mnist, x_test1_mnist], axis=0)\n",
        "y_train_mnist = np.concatenate([y_train1_mnist, y_test1_mnist], axis=0)\n",
        "\n",
        "Y_train_mnist = y_train_mnist\n",
        "X_train_mnist = X_train_mnist.reshape(-1, 28*28)"
      ]
    },
    {
      "cell_type": "code",
      "execution_count": 9,
      "metadata": {
        "id": "qiI_JUxa4uE6"
      },
      "outputs": [],
      "source": [
        "X_train = np.concatenate((X_train_data.values, X_train_mnist))\n",
        "y_train = np.concatenate((Y_train_data, Y_train_mnist))"
      ]
    },
    {
      "cell_type": "code",
      "execution_count": 17,
      "metadata": {
        "id": "SE76vfcC5TXA"
      },
      "outputs": [],
      "source": [
        "X_test = test_data.values.astype('float32')\n",
        "\n",
        "# Reshape and normalize the data\n",
        "X_train = X_train.reshape(-1, 28, 28, 1) / 255.0\n",
        "X_test = X_test.reshape(-1, 28, 28, 1) / 255.0\n"
      ]
    },
    {
      "cell_type": "code",
      "execution_count": 14,
      "metadata": {
        "id": "8UEy9B023Edx",
        "colab": {
          "base_uri": "https://localhost:8080/"
        },
        "outputId": "a5be328d-427e-4ff1-9751-9ee7bafe1fc3"
      },
      "outputs": [
        {
          "output_type": "stream",
          "name": "stdout",
          "text": [
            "Epoch 1/50\n",
            "638/638 [==============================] - 84s 130ms/step - loss: 0.1639 - accuracy: 0.9518 - val_loss: 0.0572 - val_accuracy: 0.9818\n",
            "Epoch 2/50\n",
            "638/638 [==============================] - 73s 114ms/step - loss: 0.0424 - accuracy: 0.9868 - val_loss: 0.0359 - val_accuracy: 0.9891\n",
            "Epoch 3/50\n",
            "638/638 [==============================] - 71s 111ms/step - loss: 0.0276 - accuracy: 0.9916 - val_loss: 0.0317 - val_accuracy: 0.9900\n",
            "Epoch 4/50\n",
            "638/638 [==============================] - 72s 112ms/step - loss: 0.0209 - accuracy: 0.9933 - val_loss: 0.0228 - val_accuracy: 0.9932\n",
            "Epoch 5/50\n",
            "638/638 [==============================] - 71s 111ms/step - loss: 0.0151 - accuracy: 0.9953 - val_loss: 0.0188 - val_accuracy: 0.9940\n",
            "Epoch 6/50\n",
            "638/638 [==============================] - 73s 114ms/step - loss: 0.0114 - accuracy: 0.9963 - val_loss: 0.0203 - val_accuracy: 0.9928\n",
            "Epoch 7/50\n",
            "638/638 [==============================] - 71s 112ms/step - loss: 0.0090 - accuracy: 0.9971 - val_loss: 0.0178 - val_accuracy: 0.9947\n",
            "Epoch 8/50\n",
            "638/638 [==============================] - 72s 113ms/step - loss: 0.0072 - accuracy: 0.9978 - val_loss: 0.0168 - val_accuracy: 0.9956\n",
            "Epoch 9/50\n",
            "638/638 [==============================] - 71s 111ms/step - loss: 0.0068 - accuracy: 0.9977 - val_loss: 0.0168 - val_accuracy: 0.9947\n",
            "Epoch 10/50\n",
            "638/638 [==============================] - 74s 116ms/step - loss: 0.0058 - accuracy: 0.9980 - val_loss: 0.0217 - val_accuracy: 0.9937\n",
            "Epoch 11/50\n",
            "638/638 [==============================] - 70s 110ms/step - loss: 0.0043 - accuracy: 0.9985 - val_loss: 0.0195 - val_accuracy: 0.9947\n",
            "Epoch 12/50\n",
            "638/638 [==============================] - 71s 112ms/step - loss: 0.0044 - accuracy: 0.9985 - val_loss: 0.0195 - val_accuracy: 0.9958\n",
            "Epoch 13/50\n",
            "638/638 [==============================] - 70s 109ms/step - loss: 0.0025 - accuracy: 0.9992 - val_loss: 0.0227 - val_accuracy: 0.9940\n",
            "Epoch 14/50\n",
            "638/638 [==============================] - 68s 106ms/step - loss: 0.0036 - accuracy: 0.9988 - val_loss: 0.0283 - val_accuracy: 0.9921\n",
            "Epoch 15/50\n",
            "638/638 [==============================] - 67s 106ms/step - loss: 0.0040 - accuracy: 0.9987 - val_loss: 0.0165 - val_accuracy: 0.9961\n",
            "Epoch 16/50\n",
            "638/638 [==============================] - 67s 105ms/step - loss: 0.0025 - accuracy: 0.9993 - val_loss: 0.0188 - val_accuracy: 0.9951\n",
            "Epoch 17/50\n",
            "638/638 [==============================] - 68s 106ms/step - loss: 0.0031 - accuracy: 0.9990 - val_loss: 0.0197 - val_accuracy: 0.9943\n",
            "Epoch 18/50\n",
            "638/638 [==============================] - 66s 103ms/step - loss: 0.0015 - accuracy: 0.9995 - val_loss: 0.0143 - val_accuracy: 0.9968\n",
            "Epoch 19/50\n",
            "638/638 [==============================] - 66s 104ms/step - loss: 0.0019 - accuracy: 0.9994 - val_loss: 0.0162 - val_accuracy: 0.9957\n",
            "Epoch 20/50\n",
            "638/638 [==============================] - 67s 105ms/step - loss: 0.0032 - accuracy: 0.9988 - val_loss: 0.0183 - val_accuracy: 0.9958\n",
            "Epoch 21/50\n",
            "638/638 [==============================] - 65s 103ms/step - loss: 0.0020 - accuracy: 0.9993 - val_loss: 0.0198 - val_accuracy: 0.9951\n",
            "Epoch 22/50\n",
            "638/638 [==============================] - 66s 103ms/step - loss: 0.0017 - accuracy: 0.9995 - val_loss: 0.0166 - val_accuracy: 0.9963\n",
            "Epoch 23/50\n",
            "638/638 [==============================] - 66s 104ms/step - loss: 0.0010 - accuracy: 0.9997 - val_loss: 0.0287 - val_accuracy: 0.9946\n",
            "Epoch 24/50\n",
            "638/638 [==============================] - 69s 109ms/step - loss: 0.0025 - accuracy: 0.9992 - val_loss: 0.0246 - val_accuracy: 0.9949\n",
            "Epoch 25/50\n",
            "638/638 [==============================] - 71s 111ms/step - loss: 0.0025 - accuracy: 0.9991 - val_loss: 0.0176 - val_accuracy: 0.9964\n",
            "Epoch 26/50\n",
            "638/638 [==============================] - 68s 107ms/step - loss: 0.0022 - accuracy: 0.9993 - val_loss: 0.0196 - val_accuracy: 0.9947\n",
            "Epoch 27/50\n",
            "638/638 [==============================] - 67s 104ms/step - loss: 6.5669e-04 - accuracy: 0.9998 - val_loss: 0.0188 - val_accuracy: 0.9964\n",
            "Epoch 28/50\n",
            "638/638 [==============================] - 67s 105ms/step - loss: 0.0018 - accuracy: 0.9995 - val_loss: 0.0192 - val_accuracy: 0.9963\n",
            "Epoch 29/50\n",
            "638/638 [==============================] - 67s 104ms/step - loss: 0.0022 - accuracy: 0.9994 - val_loss: 0.0191 - val_accuracy: 0.9963\n",
            "Epoch 30/50\n",
            "638/638 [==============================] - 68s 106ms/step - loss: 2.7489e-04 - accuracy: 0.9999 - val_loss: 0.0134 - val_accuracy: 0.9971\n",
            "Epoch 31/50\n",
            "638/638 [==============================] - 67s 105ms/step - loss: 2.2419e-05 - accuracy: 1.0000 - val_loss: 0.0133 - val_accuracy: 0.9970\n",
            "Epoch 32/50\n",
            "638/638 [==============================] - 68s 106ms/step - loss: 6.3253e-06 - accuracy: 1.0000 - val_loss: 0.0130 - val_accuracy: 0.9971\n",
            "Epoch 33/50\n",
            "638/638 [==============================] - 67s 105ms/step - loss: 3.8499e-06 - accuracy: 1.0000 - val_loss: 0.0130 - val_accuracy: 0.9972\n",
            "Epoch 34/50\n",
            "638/638 [==============================] - 67s 105ms/step - loss: 2.7768e-06 - accuracy: 1.0000 - val_loss: 0.0131 - val_accuracy: 0.9974\n",
            "Epoch 35/50\n",
            "638/638 [==============================] - 67s 105ms/step - loss: 2.1234e-06 - accuracy: 1.0000 - val_loss: 0.0132 - val_accuracy: 0.9975\n",
            "Epoch 36/50\n",
            "638/638 [==============================] - 66s 103ms/step - loss: 1.5551e-06 - accuracy: 1.0000 - val_loss: 0.0133 - val_accuracy: 0.9976\n",
            "Epoch 37/50\n",
            "638/638 [==============================] - 68s 106ms/step - loss: 1.1685e-06 - accuracy: 1.0000 - val_loss: 0.0135 - val_accuracy: 0.9976\n",
            "Epoch 38/50\n",
            "638/638 [==============================] - 66s 103ms/step - loss: 8.6675e-07 - accuracy: 1.0000 - val_loss: 0.0136 - val_accuracy: 0.9976\n",
            "Epoch 39/50\n",
            "638/638 [==============================] - 66s 104ms/step - loss: 6.4564e-07 - accuracy: 1.0000 - val_loss: 0.0139 - val_accuracy: 0.9976\n",
            "Epoch 40/50\n",
            "638/638 [==============================] - 66s 104ms/step - loss: 4.7700e-07 - accuracy: 1.0000 - val_loss: 0.0141 - val_accuracy: 0.9976\n",
            "Epoch 41/50\n",
            "638/638 [==============================] - 66s 103ms/step - loss: 3.5335e-07 - accuracy: 1.0000 - val_loss: 0.0144 - val_accuracy: 0.9975\n",
            "Epoch 42/50\n",
            "638/638 [==============================] - 67s 105ms/step - loss: 2.5933e-07 - accuracy: 1.0000 - val_loss: 0.0146 - val_accuracy: 0.9976\n",
            "Epoch 43/50\n",
            "638/638 [==============================] - 67s 104ms/step - loss: 1.9103e-07 - accuracy: 1.0000 - val_loss: 0.0149 - val_accuracy: 0.9975\n",
            "Epoch 44/50\n",
            "638/638 [==============================] - 67s 106ms/step - loss: 1.4232e-07 - accuracy: 1.0000 - val_loss: 0.0152 - val_accuracy: 0.9976\n",
            "Epoch 45/50\n",
            "638/638 [==============================] - 69s 108ms/step - loss: 1.0520e-07 - accuracy: 1.0000 - val_loss: 0.0154 - val_accuracy: 0.9976\n",
            "Epoch 46/50\n",
            "638/638 [==============================] - 69s 108ms/step - loss: 7.6405e-08 - accuracy: 1.0000 - val_loss: 0.0157 - val_accuracy: 0.9976\n",
            "Epoch 47/50\n",
            "638/638 [==============================] - 71s 111ms/step - loss: 5.7500e-08 - accuracy: 1.0000 - val_loss: 0.0160 - val_accuracy: 0.9975\n",
            "Epoch 48/50\n",
            "638/638 [==============================] - 70s 110ms/step - loss: 4.2296e-08 - accuracy: 1.0000 - val_loss: 0.0163 - val_accuracy: 0.9975\n",
            "Epoch 49/50\n",
            "638/638 [==============================] - 68s 106ms/step - loss: 3.1046e-08 - accuracy: 1.0000 - val_loss: 0.0166 - val_accuracy: 0.9974\n",
            "Epoch 50/50\n",
            "638/638 [==============================] - 69s 107ms/step - loss: 2.3302e-08 - accuracy: 1.0000 - val_loss: 0.0169 - val_accuracy: 0.9974\n"
          ]
        },
        {
          "output_type": "execute_result",
          "data": {
            "text/plain": [
              "<keras.callbacks.History at 0x7fbc43511a80>"
            ]
          },
          "metadata": {},
          "execution_count": 14
        }
      ],
      "source": [
        "\n",
        "\n",
        "# Split the training data into training and validation sets\n",
        "X_train, X_val, y_train, y_val = train_test_split(X_train, y_train, test_size=0.1, random_state=42)\n",
        "\n",
        "# Define the CNN model\n",
        "model = Sequential()\n",
        "model.add(Conv2D(32, kernel_size=(3, 3), activation='relu', input_shape=(28, 28, 1)))\n",
        "model.add(MaxPool2D(pool_size=(2, 2)))\n",
        "model.add(Conv2D(64, kernel_size=(3, 3), activation='relu'))\n",
        "model.add(MaxPool2D(pool_size=(2, 2)))\n",
        "model.add(Flatten())\n",
        "model.add(Dense(128, activation='relu'))\n",
        "model.add(Dense(10, activation='softmax'))\n",
        "\n",
        "# Compile and train the model\n",
        "model.compile(loss='sparse_categorical_crossentropy', optimizer='adam', metrics=['accuracy'])\n",
        "model.fit(X_train, y_train, batch_size= 128, epochs=50, validation_data=(X_val, y_val))\n",
        "\n"
      ]
    },
    {
      "cell_type": "code",
      "source": [
        "y_test_pred = np.argmax(model.predict(X_test), axis=1)\n",
        "\n",
        "# Generate submission file\n",
        "image_ids = np.arange(1, len(y_test_pred) + 1)\n",
        "submission = pd.DataFrame({'ImageId': image_ids, 'Label': y_test_pred})\n",
        "submission.to_csv('submission1.csv', index=False)\n"
      ],
      "metadata": {
        "colab": {
          "base_uri": "https://localhost:8080/"
        },
        "id": "2t0GxhnC_Rb0",
        "outputId": "2f88e0bc-33a6-49c3-d0bd-2ef981ee99c0"
      },
      "execution_count": 19,
      "outputs": [
        {
          "output_type": "stream",
          "name": "stdout",
          "text": [
            "875/875 [==============================] - 10s 11ms/step\n"
          ]
        }
      ]
    }
  ],
  "metadata": {
    "colab": {
      "provenance": []
    },
    "kernelspec": {
      "display_name": "Python 3",
      "name": "python3"
    },
    "language_info": {
      "name": "python"
    }
  },
  "nbformat": 4,
  "nbformat_minor": 0
}