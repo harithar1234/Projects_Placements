{
  "cells": [
    {
      "cell_type": "markdown",
      "source": [
        "Driver at fault Hackathon"
      ],
      "metadata": {
        "id": "Q7kbKmR3wU2l"
      },
      "id": "Q7kbKmR3wU2l"
    },
    {
      "cell_type": "code",
      "source": [
        "!pip install category_encoders"
      ],
      "metadata": {
        "colab": {
          "base_uri": "https://localhost:8080/"
        },
        "id": "Dx6LYIK5Rv92",
        "outputId": "aca72bc5-d180-4ec5-9589-336f246ea56b"
      },
      "id": "Dx6LYIK5Rv92",
      "execution_count": 1,
      "outputs": [
        {
          "output_type": "stream",
          "name": "stdout",
          "text": [
            "Requirement already satisfied: category_encoders in /usr/local/lib/python3.10/dist-packages (2.6.1)\n",
            "Requirement already satisfied: numpy>=1.14.0 in /usr/local/lib/python3.10/dist-packages (from category_encoders) (1.22.4)\n",
            "Requirement already satisfied: scikit-learn>=0.20.0 in /usr/local/lib/python3.10/dist-packages (from category_encoders) (1.2.2)\n",
            "Requirement already satisfied: scipy>=1.0.0 in /usr/local/lib/python3.10/dist-packages (from category_encoders) (1.10.1)\n",
            "Requirement already satisfied: statsmodels>=0.9.0 in /usr/local/lib/python3.10/dist-packages (from category_encoders) (0.13.5)\n",
            "Requirement already satisfied: pandas>=1.0.5 in /usr/local/lib/python3.10/dist-packages (from category_encoders) (1.5.3)\n",
            "Requirement already satisfied: patsy>=0.5.1 in /usr/local/lib/python3.10/dist-packages (from category_encoders) (0.5.3)\n",
            "Requirement already satisfied: python-dateutil>=2.8.1 in /usr/local/lib/python3.10/dist-packages (from pandas>=1.0.5->category_encoders) (2.8.2)\n",
            "Requirement already satisfied: pytz>=2020.1 in /usr/local/lib/python3.10/dist-packages (from pandas>=1.0.5->category_encoders) (2022.7.1)\n",
            "Requirement already satisfied: six in /usr/local/lib/python3.10/dist-packages (from patsy>=0.5.1->category_encoders) (1.16.0)\n",
            "Requirement already satisfied: joblib>=1.1.1 in /usr/local/lib/python3.10/dist-packages (from scikit-learn>=0.20.0->category_encoders) (1.2.0)\n",
            "Requirement already satisfied: threadpoolctl>=2.0.0 in /usr/local/lib/python3.10/dist-packages (from scikit-learn>=0.20.0->category_encoders) (3.1.0)\n",
            "Requirement already satisfied: packaging>=21.3 in /usr/local/lib/python3.10/dist-packages (from statsmodels>=0.9.0->category_encoders) (23.1)\n"
          ]
        }
      ]
    },
    {
      "cell_type": "code",
      "execution_count": 14,
      "id": "e105d74d",
      "metadata": {
        "id": "e105d74d"
      },
      "outputs": [],
      "source": [
        "import numpy as np\n",
        "import pandas as pd\n",
        "import csv\n",
        "from xgboost import XGBClassifier\n",
        "from sklearn.ensemble import RandomForestClassifier\n",
        "from lightgbm import LGBMClassifier\n",
        "from sklearn.ensemble import StackingClassifier\n",
        "import category_encoders as ce\n",
        "\n"
      ]
    },
    {
      "cell_type": "code",
      "source": [
        "def scale(a):\n",
        "    if a < 0:\n",
        "        a = -a\n",
        "    if a != 0:\n",
        "        a /= np.power(10, np.floor(np.log10(a)))\n",
        "    return a"
      ],
      "metadata": {
        "id": "FDNDg3UlRk2N"
      },
      "id": "FDNDg3UlRk2N",
      "execution_count": 15,
      "outputs": []
    },
    {
      "cell_type": "code",
      "source": [
        "train_df=pd.read_csv('train.csv')\n",
        "train_df.head(5)\n",
        "train_df.info()"
      ],
      "metadata": {
        "colab": {
          "base_uri": "https://localhost:8080/"
        },
        "id": "JTxYGE6Xk6hI",
        "outputId": "3a161b68-ea6c-445b-ad83-9c884cb33f61"
      },
      "id": "JTxYGE6Xk6hI",
      "execution_count": 17,
      "outputs": [
        {
          "output_type": "stream",
          "name": "stdout",
          "text": [
            "<class 'pandas.core.frame.DataFrame'>\n",
            "RangeIndex: 51490 entries, 0 to 51489\n",
            "Data columns (total 42 columns):\n",
            " #   Column                          Non-Null Count  Dtype  \n",
            "---  ------                          --------------  -----  \n",
            " 0   Report Number                   51490 non-null  object \n",
            " 1   Local Case Number               45037 non-null  object \n",
            " 2   Agency Name                     51490 non-null  object \n",
            " 3   ACRS Report Type                51490 non-null  object \n",
            " 4   Crash Date/Time                 51490 non-null  object \n",
            " 5   Route Type                      46522 non-null  object \n",
            " 6   Road Name                       46988 non-null  object \n",
            " 7   Cross-Street Type               46471 non-null  object \n",
            " 8   Cross-Street Name               46968 non-null  object \n",
            " 9   Off-Road Description            6950 non-null   object \n",
            " 10  Municipality                    7567 non-null   object \n",
            " 11  Related Non-Motorist            3648 non-null   object \n",
            " 12  Collision Type                  51191 non-null  object \n",
            " 13  Weather                         47461 non-null  object \n",
            " 14  Surface Condition               45611 non-null  object \n",
            " 15  Light                           50786 non-null  object \n",
            " 16  Traffic Control                 43716 non-null  object \n",
            " 17  Driver Substance Abuse          42395 non-null  object \n",
            " 18  Non-Motorist Substance Abuse    3384 non-null   object \n",
            " 19  Person ID                       51490 non-null  object \n",
            " 20  Injury Severity                 51490 non-null  object \n",
            " 21  Circumstance                    11752 non-null  object \n",
            " 22  Drivers License State           48962 non-null  object \n",
            " 23  Vehicle ID                      51490 non-null  object \n",
            " 24  Vehicle Damage Extent           51093 non-null  object \n",
            " 25  Vehicle First Impact Location   51268 non-null  object \n",
            " 26  Vehicle Second Impact Location  51256 non-null  object \n",
            " 27  Vehicle Body Type               50705 non-null  object \n",
            " 28  Vehicle Movement                51292 non-null  object \n",
            " 29  Vehicle Continuing Dir          50361 non-null  object \n",
            " 30  Vehicle Going Dir               50377 non-null  object \n",
            " 31  Speed Limit                     51490 non-null  int64  \n",
            " 32  Driverless Vehicle              51490 non-null  object \n",
            " 33  Parked Vehicle                  51490 non-null  object \n",
            " 34  Vehicle Year                    51490 non-null  int64  \n",
            " 35  Vehicle Make                    51482 non-null  object \n",
            " 36  Vehicle Model                   51471 non-null  object \n",
            " 37  Equipment Problems              40824 non-null  object \n",
            " 38  Latitude                        51490 non-null  float64\n",
            " 39  Longitude                       51490 non-null  float64\n",
            " 40  Location                        51490 non-null  object \n",
            " 41  Fault                           51490 non-null  int64  \n",
            "dtypes: float64(2), int64(3), object(37)\n",
            "memory usage: 16.5+ MB\n"
          ]
        }
      ]
    },
    {
      "cell_type": "code",
      "source": [
        "test_df=pd.read_csv('test.csv')\n",
        "test_df.head(5)\n",
        "test_df.info()"
      ],
      "metadata": {
        "colab": {
          "base_uri": "https://localhost:8080/"
        },
        "id": "65g6EvPvlPFa",
        "outputId": "c02df106-0b71-4799-e57c-6aa75d98db04"
      },
      "id": "65g6EvPvlPFa",
      "execution_count": 18,
      "outputs": [
        {
          "output_type": "stream",
          "name": "stderr",
          "text": [
            "<ipython-input-18-d3efc7bb4b27>:1: DtypeWarning: Columns (2) have mixed types. Specify dtype option on import or set low_memory=False.\n",
            "  test_df=pd.read_csv('test.csv')\n"
          ]
        },
        {
          "output_type": "stream",
          "name": "stdout",
          "text": [
            "<class 'pandas.core.frame.DataFrame'>\n",
            "RangeIndex: 77235 entries, 0 to 77234\n",
            "Data columns (total 42 columns):\n",
            " #   Column                          Non-Null Count  Dtype  \n",
            "---  ------                          --------------  -----  \n",
            " 0   Id                              77235 non-null  int64  \n",
            " 1   Report Number                   77235 non-null  object \n",
            " 2   Local Case Number               67162 non-null  object \n",
            " 3   Agency Name                     77235 non-null  object \n",
            " 4   ACRS Report Type                77235 non-null  object \n",
            " 5   Crash Date/Time                 77235 non-null  object \n",
            " 6   Route Type                      69768 non-null  object \n",
            " 7   Road Name                       70166 non-null  object \n",
            " 8   Cross-Street Type               69755 non-null  object \n",
            " 9   Cross-Street Name               70164 non-null  object \n",
            " 10  Off-Road Description            7069 non-null   object \n",
            " 11  Municipality                    8498 non-null   object \n",
            " 12  Related Non-Motorist            2248 non-null   object \n",
            " 13  Collision Type                  76990 non-null  object \n",
            " 14  Weather                         71239 non-null  object \n",
            " 15  Surface Condition               68182 non-null  object \n",
            " 16  Light                           76615 non-null  object \n",
            " 17  Traffic Control                 65185 non-null  object \n",
            " 18  Driver Substance Abuse          63152 non-null  object \n",
            " 19  Non-Motorist Substance Abuse    1777 non-null   object \n",
            " 20  Person ID                       77235 non-null  object \n",
            " 21  Injury Severity                 77235 non-null  object \n",
            " 22  Circumstance                    14545 non-null  object \n",
            " 23  Drivers License State           73315 non-null  object \n",
            " 24  Vehicle ID                      77235 non-null  object \n",
            " 25  Vehicle Damage Extent           77099 non-null  object \n",
            " 26  Vehicle First Impact Location   77154 non-null  object \n",
            " 27  Vehicle Second Impact Location  77096 non-null  object \n",
            " 28  Vehicle Body Type               76128 non-null  object \n",
            " 29  Vehicle Movement                77082 non-null  object \n",
            " 30  Vehicle Continuing Dir          76034 non-null  object \n",
            " 31  Vehicle Going Dir               76034 non-null  object \n",
            " 32  Speed Limit                     77235 non-null  int64  \n",
            " 33  Driverless Vehicle              77235 non-null  object \n",
            " 34  Parked Vehicle                  77235 non-null  object \n",
            " 35  Vehicle Year                    77235 non-null  int64  \n",
            " 36  Vehicle Make                    77222 non-null  object \n",
            " 37  Vehicle Model                   77201 non-null  object \n",
            " 38  Equipment Problems              60811 non-null  object \n",
            " 39  Latitude                        77235 non-null  float64\n",
            " 40  Longitude                       77235 non-null  float64\n",
            " 41  Location                        77235 non-null  object \n",
            "dtypes: float64(2), int64(3), object(37)\n",
            "memory usage: 24.7+ MB\n"
          ]
        }
      ]
    },
    {
      "cell_type": "code",
      "execution_count": 21,
      "id": "0e387a22",
      "metadata": {
        "id": "0e387a22"
      },
      "outputs": [],
      "source": [
        "temp_train_df=train_df.drop(columns=['Fault'])\n",
        "temp_test_df=test_df.drop(columns=['Id'])\n",
        "\n",
        "total_df=pd.concat([temp_train_df,temp_test_df],ignore_index=True)\n",
        "\n",
        "# 'Report Number', 'Local Case Number', 'Person ID' are not useful\n",
        "total_df.drop(columns=['Agency Name','Driverless Vehicle','Road Name','Cross-Street Name','Report Number', 'Local Case Number', 'Person ID','Vehicle Model','Vehicle Make','Vehicle ID'],inplace=True)\n",
        "\n",
        "# dropping columns with to many NaN values\n",
        "total_df.dropna(axis=1,thresh=35000,inplace=True)\n"
      ]
    },
    {
      "cell_type": "code",
      "source": [
        "total_df['Driver Substance Abuse'] = total_df['Driver Substance Abuse'].str.replace(\"CONTRIBUTED\",'PRESENT')\n",
        "total_df['Driver Substance Abuse'] = total_df['Driver Substance Abuse'].str.replace(\"COMBINED SUBSTANCE\",'COMBINATION')"
      ],
      "metadata": {
        "id": "i74kx9tUSb5R"
      },
      "id": "i74kx9tUSb5R",
      "execution_count": 22,
      "outputs": []
    },
    {
      "cell_type": "code",
      "source": [
        "# print(total_df['Equipment Problems'].value_counts(dropna=False))\n",
        "total_df['Equipment Problems']=total_df['Equipment Problems'].fillna(value='NO MISUSE')\n",
        "# total_df['Equipment Problems']=total_df['Equipment Problems'].astype('category').cat.codes\n",
        "\n",
        "# print(total_df['Vehicle Going Dir'].value_counts(dropna=False))\n",
        "total_df['Vehicle Going Dir']=total_df['Vehicle Going Dir'].fillna('Unknown')\n",
        "# total_df['Vehicle Going Dir']=total_df['Vehicle Going Dir'].astype('category').cat.codes\n",
        "\n",
        "total_df['Vehicle Continuing Dir']=total_df['Vehicle Continuing Dir'].fillna('Unknown')\n",
        "# total_df['Vehicle Continuing Dir']=total_df['Vehicle Continuing Dir'].astype('category').cat.codes\n",
        "\n",
        "# print(total_df['Vehicle Movement'].value_counts(dropna=False))\n",
        "total_df['Vehicle Movement']=total_df['Vehicle Movement'].fillna(value='UNKNOWN')\n",
        "# total_df['Vehicle Movement']=total_df['Vehicle Movement'].astype('category').cat.codes\n",
        "\n",
        "# print(total_df['Vehicle Body Type'].value_counts(dropna=False))\n",
        "total_df['Vehicle Body Type']=total_df['Vehicle Body Type'].fillna(value='PASSENGER CAR')\n",
        "# total_df['Vehicle Body Type']=total_df['Vehicle Body Type'].astype('category').cat.codes\n",
        "\n",
        "# print(total_df['Vehicle Second Impact Location'].value_counts(dropna=False))\n",
        "total_df['Vehicle Second Impact Location']=total_df['Vehicle Second Impact Location'].fillna(value='TWELVE OCLOCK')\n",
        "# total_df['Vehicle Second Impact Location']=total_df['Vehicle Second Impact Location'].astype('category').cat.codes\n",
        "\n",
        "total_df['Vehicle First Impact Location']=total_df['Vehicle First Impact Location'].fillna(value='TWELVE OCLOCK')\n",
        "# total_df['Vehicle First Impact Location']=total_df['Vehicle First Impact Location'].astype('category').cat.codes\n",
        "\n",
        "# print(total_df['Vehicle Damage Extent'].value_counts(dropna=False))\n",
        "total_df['Vehicle Damage Extent']=total_df['Vehicle Damage Extent'].fillna(value='DISABLING')\n",
        "# total_df['Vehicle Damage Extent']=total_df['Vehicle Damage Extent'].astype('category').cat.codes\n",
        "\n",
        "# print(total_df['Drivers License State'].value_counts(dropna=False))\n",
        "total_df['Drivers License State']=total_df['Drivers License State'].fillna(value='MD')\n",
        "# total_df['Drivers License State']=total_df['Drivers License State'].astype('category').cat.codes\n",
        "\n",
        "# total_df['Injury Severity']=total_df['Injury Severity'].astype('category').cat.codes\n",
        "\n",
        "# print(total_df['Driver Substance Abuse'].value_counts(dropna=False))\n",
        "total_df['Driver Substance Abuse']=total_df['Driver Substance Abuse'].fillna(value='UNKNOWN')\n",
        "# total_df['Driver Substance Abuse']=total_df['Driver Substance Abuse'].astype('category').cat.codes\n",
        "\n",
        "# print(total_df['Traffic Control'].value_counts(dropna=False))\n",
        "total_df['Traffic Control']=total_df['Traffic Control'].fillna(value='UNKNOWN')\n",
        "# total_df['Traffic Control']=total_df['Traffic Control'].astype('category').cat.codes\n",
        "\n",
        "# print(total_df['Light'].value_counts(dropna=False))\n",
        "total_df['Light']=total_df['Light'].fillna(value='UNKNOWN')\n",
        "# total_df['Light']=total_df['Light'].astype('category').cat.codes\n",
        "\n",
        "# print(total_df['Surface Condition'].value_counts(dropna=False))\n",
        "total_df['Surface Condition']=total_df['Surface Condition'].fillna(value='UNKNOWN')\n",
        "# total_df['Surface Condition']=total_df['Surface Condition'].astype('category').cat.codes\n",
        "\n",
        "# print(total_df['Weather'].value_counts(dropna=False))\n",
        "total_df['Weather']=total_df['Weather'].fillna(value='UNKNOWN')\n",
        "# total_df['Weather']=total_df['Weather'].astype('category').cat.codes\n",
        "\n",
        "# print(total_df['Collision Type'].value_counts(dropna=False))\n",
        "total_df['Collision Type']=total_df['Collision Type'].fillna(value='SAME DIR REAR END')\n",
        "# total_df['Collision Type']=total_df['Collision Type'].astype('category').cat.codes\n",
        "\n",
        "# print(total_df['Cross-Street Type'].value_counts(dropna=False))\n",
        "total_df['Cross-Street Type']=total_df['Cross-Street Type'].fillna(value='Unknown')\n",
        "# total_df['Cross-Street Type']=total_df['Cross-Street Type'].astype('category').cat.codes\n",
        "\n",
        "# print(total_df['Route Type'].value_counts(dropna=False))\n",
        "total_df['Route Type']=total_df['Route Type'].fillna(value='Unknown')\n",
        "# total_df['Route Type']=total_df['Route Type'].astype('category').cat.codes\n"
      ],
      "metadata": {
        "id": "Xh8cxmUmmMvR"
      },
      "id": "Xh8cxmUmmMvR",
      "execution_count": 23,
      "outputs": []
    },
    {
      "cell_type": "code",
      "source": [
        "total_df['Location']=total_df['Location'].str.replace(',',' ')\n",
        "\n",
        "split_data = total_df[\"Location\"].str.split(\" \")\n",
        "data = split_data.to_list()\n",
        "\n",
        "\n",
        "for i in range(len(total_df.index)):\n",
        "    data[i][1]=float(data[i][1])\n",
        "    data[i][0]=float(data[i][0])\n",
        "    data[i][1]=scale(data[i][1])\n",
        "\n",
        "names = [\"Location_1\",\"Location_2\"]\n",
        "\n",
        "temp_df = pd.DataFrame(data, columns=names)\n",
        "\n",
        "total_df=total_df.drop(columns=['Location'])\n",
        "total_df=pd.concat([total_df,temp_df],axis=1)"
      ],
      "metadata": {
        "id": "4qz5GzqlbK15"
      },
      "id": "4qz5GzqlbK15",
      "execution_count": 24,
      "outputs": []
    },
    {
      "cell_type": "code",
      "execution_count": 25,
      "id": "8a4f57f6",
      "metadata": {
        "id": "8a4f57f6"
      },
      "outputs": [],
      "source": [
        "\n",
        "total_df['Crash Date/Time'] = pd.to_datetime(total_df['Crash Date/Time'])\n",
        "total_df['Hour'] = total_df['Crash Date/Time'].dt.hour\n",
        "total_df['day'] = total_df['Crash Date/Time'].dt.dayofweek\n",
        "total_df['year'] = total_df['Crash Date/Time'].dt.year\n",
        "total_df['month']=total_df['Crash Date/Time'].dt.month\n",
        "total_df.drop(columns=['Crash Date/Time'],inplace=True)"
      ]
    },
    {
      "cell_type": "code",
      "execution_count": 26,
      "id": "e5316710",
      "metadata": {
        "colab": {
          "base_uri": "https://localhost:8080/"
        },
        "id": "e5316710",
        "outputId": "83a781cc-3b44-484e-a899-133454ae07a2"
      },
      "outputs": [
        {
          "output_type": "stream",
          "name": "stderr",
          "text": [
            "/usr/local/lib/python3.10/dist-packages/xgboost/sklearn.py:1395: UserWarning: `use_label_encoder` is deprecated in 1.7.0.\n",
            "  warnings.warn(\"`use_label_encoder` is deprecated in 1.7.0.\")\n",
            "/usr/local/lib/python3.10/dist-packages/category_encoders/base_contrast_encoder.py:126: FutureWarning: Intercept column might not be added anymore in future releases (c.f. issue #370)\n",
            "  warnings.warn(\"Intercept column might not be added anymore in future releases (c.f. issue #370)\",\n",
            "/usr/local/lib/python3.10/dist-packages/category_encoders/base_contrast_encoder.py:126: FutureWarning: Intercept column might not be added anymore in future releases (c.f. issue #370)\n",
            "  warnings.warn(\"Intercept column might not be added anymore in future releases (c.f. issue #370)\",\n"
          ]
        }
      ],
      "source": [
        "# one_hot = np.array(pd.get_dummies(total_df))\n",
        "base_learners = [\n",
        "                 ('rf_1', RandomForestClassifier(n_estimators=100, max_features='sqrt')),\n",
        "                 ('rf_2', LGBMClassifier(boosting_type='dart', drop_rate=0.5, max_drop=50, n_estimators=1000)),\n",
        "                 ('rf_3', XGBClassifier(use_label_encoder=False, learning_rate = 0.14, n_estimators=125, max_depth=8))\n",
        "                ]\n",
        "\n",
        "cl=[]\n",
        "for column in total_df.columns:\n",
        "    if total_df[column].dtype == object:\n",
        "        cl.append(column)\n",
        "encoder = ce.polynomial.PolynomialEncoder(verbose=False, cols=cl, drop_invariant=True)\n",
        "one_hot= encoder.fit_transform(total_df)\n",
        "\n",
        "clf = StackingClassifier(estimators=base_learners, n_jobs=12, final_estimator=LGBMClassifier(boosting_type='goss'))\n",
        "\n",
        "train_labels=np.array(train_df['Fault'])\n",
        "train_feas=one_hot[:51490]\n",
        "test_feas=one_hot[51490:]"
      ]
    },
    {
      "cell_type": "code",
      "execution_count": 27,
      "id": "103f21fc",
      "metadata": {
        "id": "103f21fc",
        "outputId": "3da67736-1553-4a8e-c739-d2a02066fbc9",
        "colab": {
          "base_uri": "https://localhost:8080/",
          "height": 233
        }
      },
      "outputs": [
        {
          "output_type": "stream",
          "name": "stderr",
          "text": [
            "/usr/local/lib/python3.10/dist-packages/xgboost/sklearn.py:1395: UserWarning: `use_label_encoder` is deprecated in 1.7.0.\n",
            "  warnings.warn(\"`use_label_encoder` is deprecated in 1.7.0.\")\n",
            "/usr/local/lib/python3.10/dist-packages/xgboost/sklearn.py:1395: UserWarning: `use_label_encoder` is deprecated in 1.7.0.\n",
            "  warnings.warn(\"`use_label_encoder` is deprecated in 1.7.0.\")\n"
          ]
        },
        {
          "output_type": "execute_result",
          "data": {
            "text/plain": [
              "StackingClassifier(estimators=[('rf_1', RandomForestClassifier()),\n",
              "                               ('rf_2',\n",
              "                                LGBMClassifier(boosting_type='dart',\n",
              "                                               drop_rate=0.5, max_drop=50,\n",
              "                                               n_estimators=1000)),\n",
              "                               ('rf_3',\n",
              "                                XGBClassifier(base_score=None, booster=None,\n",
              "                                              callbacks=None,\n",
              "                                              colsample_bylevel=None,\n",
              "                                              colsample_bynode=None,\n",
              "                                              colsample_bytree=None,\n",
              "                                              early_stopping_rounds=None,\n",
              "                                              enable_categorical=False,\n",
              "                                              eval_metri...\n",
              "                                              interaction_constraints=None,\n",
              "                                              learning_rate=0.14, max_bin=None,\n",
              "                                              max_cat_threshold=None,\n",
              "                                              max_cat_to_onehot=None,\n",
              "                                              max_delta_step=None, max_depth=8,\n",
              "                                              max_leaves=None,\n",
              "                                              min_child_weight=None,\n",
              "                                              missing=nan,\n",
              "                                              monotone_constraints=None,\n",
              "                                              n_estimators=125, n_jobs=None,\n",
              "                                              num_parallel_tree=None,\n",
              "                                              predictor=None, random_state=None, ...))],\n",
              "                   final_estimator=LGBMClassifier(boosting_type='goss'),\n",
              "                   n_jobs=12)"
            ],
            "text/html": [
              "<style>#sk-container-id-2 {color: black;background-color: white;}#sk-container-id-2 pre{padding: 0;}#sk-container-id-2 div.sk-toggleable {background-color: white;}#sk-container-id-2 label.sk-toggleable__label {cursor: pointer;display: block;width: 100%;margin-bottom: 0;padding: 0.3em;box-sizing: border-box;text-align: center;}#sk-container-id-2 label.sk-toggleable__label-arrow:before {content: \"▸\";float: left;margin-right: 0.25em;color: #696969;}#sk-container-id-2 label.sk-toggleable__label-arrow:hover:before {color: black;}#sk-container-id-2 div.sk-estimator:hover label.sk-toggleable__label-arrow:before {color: black;}#sk-container-id-2 div.sk-toggleable__content {max-height: 0;max-width: 0;overflow: hidden;text-align: left;background-color: #f0f8ff;}#sk-container-id-2 div.sk-toggleable__content pre {margin: 0.2em;color: black;border-radius: 0.25em;background-color: #f0f8ff;}#sk-container-id-2 input.sk-toggleable__control:checked~div.sk-toggleable__content {max-height: 200px;max-width: 100%;overflow: auto;}#sk-container-id-2 input.sk-toggleable__control:checked~label.sk-toggleable__label-arrow:before {content: \"▾\";}#sk-container-id-2 div.sk-estimator input.sk-toggleable__control:checked~label.sk-toggleable__label {background-color: #d4ebff;}#sk-container-id-2 div.sk-label input.sk-toggleable__control:checked~label.sk-toggleable__label {background-color: #d4ebff;}#sk-container-id-2 input.sk-hidden--visually {border: 0;clip: rect(1px 1px 1px 1px);clip: rect(1px, 1px, 1px, 1px);height: 1px;margin: -1px;overflow: hidden;padding: 0;position: absolute;width: 1px;}#sk-container-id-2 div.sk-estimator {font-family: monospace;background-color: #f0f8ff;border: 1px dotted black;border-radius: 0.25em;box-sizing: border-box;margin-bottom: 0.5em;}#sk-container-id-2 div.sk-estimator:hover {background-color: #d4ebff;}#sk-container-id-2 div.sk-parallel-item::after {content: \"\";width: 100%;border-bottom: 1px solid gray;flex-grow: 1;}#sk-container-id-2 div.sk-label:hover label.sk-toggleable__label {background-color: #d4ebff;}#sk-container-id-2 div.sk-serial::before {content: \"\";position: absolute;border-left: 1px solid gray;box-sizing: border-box;top: 0;bottom: 0;left: 50%;z-index: 0;}#sk-container-id-2 div.sk-serial {display: flex;flex-direction: column;align-items: center;background-color: white;padding-right: 0.2em;padding-left: 0.2em;position: relative;}#sk-container-id-2 div.sk-item {position: relative;z-index: 1;}#sk-container-id-2 div.sk-parallel {display: flex;align-items: stretch;justify-content: center;background-color: white;position: relative;}#sk-container-id-2 div.sk-item::before, #sk-container-id-2 div.sk-parallel-item::before {content: \"\";position: absolute;border-left: 1px solid gray;box-sizing: border-box;top: 0;bottom: 0;left: 50%;z-index: -1;}#sk-container-id-2 div.sk-parallel-item {display: flex;flex-direction: column;z-index: 1;position: relative;background-color: white;}#sk-container-id-2 div.sk-parallel-item:first-child::after {align-self: flex-end;width: 50%;}#sk-container-id-2 div.sk-parallel-item:last-child::after {align-self: flex-start;width: 50%;}#sk-container-id-2 div.sk-parallel-item:only-child::after {width: 0;}#sk-container-id-2 div.sk-dashed-wrapped {border: 1px dashed gray;margin: 0 0.4em 0.5em 0.4em;box-sizing: border-box;padding-bottom: 0.4em;background-color: white;}#sk-container-id-2 div.sk-label label {font-family: monospace;font-weight: bold;display: inline-block;line-height: 1.2em;}#sk-container-id-2 div.sk-label-container {text-align: center;}#sk-container-id-2 div.sk-container {/* jupyter's `normalize.less` sets `[hidden] { display: none; }` but bootstrap.min.css set `[hidden] { display: none !important; }` so we also need the `!important` here to be able to override the default hidden behavior on the sphinx rendered scikit-learn.org. See: https://github.com/scikit-learn/scikit-learn/issues/21755 */display: inline-block !important;position: relative;}#sk-container-id-2 div.sk-text-repr-fallback {display: none;}</style><div id=\"sk-container-id-2\" class=\"sk-top-container\"><div class=\"sk-text-repr-fallback\"><pre>StackingClassifier(estimators=[(&#x27;rf_1&#x27;, RandomForestClassifier()),\n",
              "                               (&#x27;rf_2&#x27;,\n",
              "                                LGBMClassifier(boosting_type=&#x27;dart&#x27;,\n",
              "                                               drop_rate=0.5, max_drop=50,\n",
              "                                               n_estimators=1000)),\n",
              "                               (&#x27;rf_3&#x27;,\n",
              "                                XGBClassifier(base_score=None, booster=None,\n",
              "                                              callbacks=None,\n",
              "                                              colsample_bylevel=None,\n",
              "                                              colsample_bynode=None,\n",
              "                                              colsample_bytree=None,\n",
              "                                              early_stopping_rounds=None,\n",
              "                                              enable_categorical=False,\n",
              "                                              eval_metri...\n",
              "                                              interaction_constraints=None,\n",
              "                                              learning_rate=0.14, max_bin=None,\n",
              "                                              max_cat_threshold=None,\n",
              "                                              max_cat_to_onehot=None,\n",
              "                                              max_delta_step=None, max_depth=8,\n",
              "                                              max_leaves=None,\n",
              "                                              min_child_weight=None,\n",
              "                                              missing=nan,\n",
              "                                              monotone_constraints=None,\n",
              "                                              n_estimators=125, n_jobs=None,\n",
              "                                              num_parallel_tree=None,\n",
              "                                              predictor=None, random_state=None, ...))],\n",
              "                   final_estimator=LGBMClassifier(boosting_type=&#x27;goss&#x27;),\n",
              "                   n_jobs=12)</pre><b>In a Jupyter environment, please rerun this cell to show the HTML representation or trust the notebook. <br />On GitHub, the HTML representation is unable to render, please try loading this page with nbviewer.org.</b></div><div class=\"sk-container\" hidden><div class=\"sk-item sk-dashed-wrapped\"><div class=\"sk-label-container\"><div class=\"sk-label sk-toggleable\"><input class=\"sk-toggleable__control sk-hidden--visually\" id=\"sk-estimator-id-6\" type=\"checkbox\" ><label for=\"sk-estimator-id-6\" class=\"sk-toggleable__label sk-toggleable__label-arrow\">StackingClassifier</label><div class=\"sk-toggleable__content\"><pre>StackingClassifier(estimators=[(&#x27;rf_1&#x27;, RandomForestClassifier()),\n",
              "                               (&#x27;rf_2&#x27;,\n",
              "                                LGBMClassifier(boosting_type=&#x27;dart&#x27;,\n",
              "                                               drop_rate=0.5, max_drop=50,\n",
              "                                               n_estimators=1000)),\n",
              "                               (&#x27;rf_3&#x27;,\n",
              "                                XGBClassifier(base_score=None, booster=None,\n",
              "                                              callbacks=None,\n",
              "                                              colsample_bylevel=None,\n",
              "                                              colsample_bynode=None,\n",
              "                                              colsample_bytree=None,\n",
              "                                              early_stopping_rounds=None,\n",
              "                                              enable_categorical=False,\n",
              "                                              eval_metri...\n",
              "                                              interaction_constraints=None,\n",
              "                                              learning_rate=0.14, max_bin=None,\n",
              "                                              max_cat_threshold=None,\n",
              "                                              max_cat_to_onehot=None,\n",
              "                                              max_delta_step=None, max_depth=8,\n",
              "                                              max_leaves=None,\n",
              "                                              min_child_weight=None,\n",
              "                                              missing=nan,\n",
              "                                              monotone_constraints=None,\n",
              "                                              n_estimators=125, n_jobs=None,\n",
              "                                              num_parallel_tree=None,\n",
              "                                              predictor=None, random_state=None, ...))],\n",
              "                   final_estimator=LGBMClassifier(boosting_type=&#x27;goss&#x27;),\n",
              "                   n_jobs=12)</pre></div></div></div><div class=\"sk-serial\"><div class=\"sk-item\"><div class=\"sk-parallel\"><div class=\"sk-parallel-item\"><div class=\"sk-item\"><div class=\"sk-label-container\"><div class=\"sk-label sk-toggleable\"><label>rf_1</label></div></div><div class=\"sk-serial\"><div class=\"sk-item\"><div class=\"sk-estimator sk-toggleable\"><input class=\"sk-toggleable__control sk-hidden--visually\" id=\"sk-estimator-id-7\" type=\"checkbox\" ><label for=\"sk-estimator-id-7\" class=\"sk-toggleable__label sk-toggleable__label-arrow\">RandomForestClassifier</label><div class=\"sk-toggleable__content\"><pre>RandomForestClassifier()</pre></div></div></div></div></div></div><div class=\"sk-parallel-item\"><div class=\"sk-item\"><div class=\"sk-label-container\"><div class=\"sk-label sk-toggleable\"><label>rf_2</label></div></div><div class=\"sk-serial\"><div class=\"sk-item\"><div class=\"sk-estimator sk-toggleable\"><input class=\"sk-toggleable__control sk-hidden--visually\" id=\"sk-estimator-id-8\" type=\"checkbox\" ><label for=\"sk-estimator-id-8\" class=\"sk-toggleable__label sk-toggleable__label-arrow\">LGBMClassifier</label><div class=\"sk-toggleable__content\"><pre>LGBMClassifier(boosting_type=&#x27;dart&#x27;, drop_rate=0.5, max_drop=50,\n",
              "               n_estimators=1000)</pre></div></div></div></div></div></div><div class=\"sk-parallel-item\"><div class=\"sk-item\"><div class=\"sk-label-container\"><div class=\"sk-label sk-toggleable\"><label>rf_3</label></div></div><div class=\"sk-serial\"><div class=\"sk-item\"><div class=\"sk-estimator sk-toggleable\"><input class=\"sk-toggleable__control sk-hidden--visually\" id=\"sk-estimator-id-9\" type=\"checkbox\" ><label for=\"sk-estimator-id-9\" class=\"sk-toggleable__label sk-toggleable__label-arrow\">XGBClassifier</label><div class=\"sk-toggleable__content\"><pre>XGBClassifier(base_score=None, booster=None, callbacks=None,\n",
              "              colsample_bylevel=None, colsample_bynode=None,\n",
              "              colsample_bytree=None, early_stopping_rounds=None,\n",
              "              enable_categorical=False, eval_metric=None, feature_types=None,\n",
              "              gamma=None, gpu_id=None, grow_policy=None, importance_type=None,\n",
              "              interaction_constraints=None, learning_rate=0.14, max_bin=None,\n",
              "              max_cat_threshold=None, max_cat_to_onehot=None,\n",
              "              max_delta_step=None, max_depth=8, max_leaves=None,\n",
              "              min_child_weight=None, missing=nan, monotone_constraints=None,\n",
              "              n_estimators=125, n_jobs=None, num_parallel_tree=None,\n",
              "              predictor=None, random_state=None, ...)</pre></div></div></div></div></div></div></div></div><div class=\"sk-item\"><div class=\"sk-parallel\"><div class=\"sk-parallel-item\"><div class=\"sk-item\"><div class=\"sk-label-container\"><div class=\"sk-label sk-toggleable\"><label>final_estimator</label></div></div><div class=\"sk-serial\"><div class=\"sk-item\"><div class=\"sk-estimator sk-toggleable\"><input class=\"sk-toggleable__control sk-hidden--visually\" id=\"sk-estimator-id-10\" type=\"checkbox\" ><label for=\"sk-estimator-id-10\" class=\"sk-toggleable__label sk-toggleable__label-arrow\">LGBMClassifier</label><div class=\"sk-toggleable__content\"><pre>LGBMClassifier(boosting_type=&#x27;goss&#x27;)</pre></div></div></div></div></div></div></div></div></div></div></div></div>"
            ]
          },
          "metadata": {},
          "execution_count": 27
        }
      ],
      "source": [
        "clf.fit(train_feas,train_labels)"
      ]
    },
    {
      "cell_type": "code",
      "execution_count": 30,
      "id": "e859ca92",
      "metadata": {
        "id": "e859ca92"
      },
      "outputs": [],
      "source": [
        "predicn=clf.predict(test_feas)\n",
        "predicn=np.array(predicn, dtype=int)\n",
        "submsn = pd.DataFrame(predicn,columns=['Fault'])\n",
        "submsn=pd.concat([test_df['Id'],submsn],axis=1)\n"
      ]
    },
    {
      "cell_type": "code",
      "source": [
        "submsn"
      ],
      "metadata": {
        "colab": {
          "base_uri": "https://localhost:8080/",
          "height": 424
        },
        "id": "92Y7Dlgpm26R",
        "outputId": "66aab347-c056-4acb-f59b-d0890630e2da"
      },
      "id": "92Y7Dlgpm26R",
      "execution_count": 28,
      "outputs": [
        {
          "output_type": "execute_result",
          "data": {
            "text/plain": [
              "          Id  Fault\n",
              "0          0      1\n",
              "1          1      0\n",
              "2          2      0\n",
              "3          3      1\n",
              "4          4      1\n",
              "...      ...    ...\n",
              "77230  77230      0\n",
              "77231  77231      1\n",
              "77232  77232      0\n",
              "77233  77233      1\n",
              "77234  77234      1\n",
              "\n",
              "[77235 rows x 2 columns]"
            ],
            "text/html": [
              "\n",
              "  <div id=\"df-cc470b2a-011c-4cb8-9e8d-4ed54c279302\">\n",
              "    <div class=\"colab-df-container\">\n",
              "      <div>\n",
              "<style scoped>\n",
              "    .dataframe tbody tr th:only-of-type {\n",
              "        vertical-align: middle;\n",
              "    }\n",
              "\n",
              "    .dataframe tbody tr th {\n",
              "        vertical-align: top;\n",
              "    }\n",
              "\n",
              "    .dataframe thead th {\n",
              "        text-align: right;\n",
              "    }\n",
              "</style>\n",
              "<table border=\"1\" class=\"dataframe\">\n",
              "  <thead>\n",
              "    <tr style=\"text-align: right;\">\n",
              "      <th></th>\n",
              "      <th>Id</th>\n",
              "      <th>Fault</th>\n",
              "    </tr>\n",
              "  </thead>\n",
              "  <tbody>\n",
              "    <tr>\n",
              "      <th>0</th>\n",
              "      <td>0</td>\n",
              "      <td>1</td>\n",
              "    </tr>\n",
              "    <tr>\n",
              "      <th>1</th>\n",
              "      <td>1</td>\n",
              "      <td>0</td>\n",
              "    </tr>\n",
              "    <tr>\n",
              "      <th>2</th>\n",
              "      <td>2</td>\n",
              "      <td>0</td>\n",
              "    </tr>\n",
              "    <tr>\n",
              "      <th>3</th>\n",
              "      <td>3</td>\n",
              "      <td>1</td>\n",
              "    </tr>\n",
              "    <tr>\n",
              "      <th>4</th>\n",
              "      <td>4</td>\n",
              "      <td>1</td>\n",
              "    </tr>\n",
              "    <tr>\n",
              "      <th>...</th>\n",
              "      <td>...</td>\n",
              "      <td>...</td>\n",
              "    </tr>\n",
              "    <tr>\n",
              "      <th>77230</th>\n",
              "      <td>77230</td>\n",
              "      <td>0</td>\n",
              "    </tr>\n",
              "    <tr>\n",
              "      <th>77231</th>\n",
              "      <td>77231</td>\n",
              "      <td>1</td>\n",
              "    </tr>\n",
              "    <tr>\n",
              "      <th>77232</th>\n",
              "      <td>77232</td>\n",
              "      <td>0</td>\n",
              "    </tr>\n",
              "    <tr>\n",
              "      <th>77233</th>\n",
              "      <td>77233</td>\n",
              "      <td>1</td>\n",
              "    </tr>\n",
              "    <tr>\n",
              "      <th>77234</th>\n",
              "      <td>77234</td>\n",
              "      <td>1</td>\n",
              "    </tr>\n",
              "  </tbody>\n",
              "</table>\n",
              "<p>77235 rows × 2 columns</p>\n",
              "</div>\n",
              "      <button class=\"colab-df-convert\" onclick=\"convertToInteractive('df-cc470b2a-011c-4cb8-9e8d-4ed54c279302')\"\n",
              "              title=\"Convert this dataframe to an interactive table.\"\n",
              "              style=\"display:none;\">\n",
              "        \n",
              "  <svg xmlns=\"http://www.w3.org/2000/svg\" height=\"24px\"viewBox=\"0 0 24 24\"\n",
              "       width=\"24px\">\n",
              "    <path d=\"M0 0h24v24H0V0z\" fill=\"none\"/>\n",
              "    <path d=\"M18.56 5.44l.94 2.06.94-2.06 2.06-.94-2.06-.94-.94-2.06-.94 2.06-2.06.94zm-11 1L8.5 8.5l.94-2.06 2.06-.94-2.06-.94L8.5 2.5l-.94 2.06-2.06.94zm10 10l.94 2.06.94-2.06 2.06-.94-2.06-.94-.94-2.06-.94 2.06-2.06.94z\"/><path d=\"M17.41 7.96l-1.37-1.37c-.4-.4-.92-.59-1.43-.59-.52 0-1.04.2-1.43.59L10.3 9.45l-7.72 7.72c-.78.78-.78 2.05 0 2.83L4 21.41c.39.39.9.59 1.41.59.51 0 1.02-.2 1.41-.59l7.78-7.78 2.81-2.81c.8-.78.8-2.07 0-2.86zM5.41 20L4 18.59l7.72-7.72 1.47 1.35L5.41 20z\"/>\n",
              "  </svg>\n",
              "      </button>\n",
              "      \n",
              "  <style>\n",
              "    .colab-df-container {\n",
              "      display:flex;\n",
              "      flex-wrap:wrap;\n",
              "      gap: 12px;\n",
              "    }\n",
              "\n",
              "    .colab-df-convert {\n",
              "      background-color: #E8F0FE;\n",
              "      border: none;\n",
              "      border-radius: 50%;\n",
              "      cursor: pointer;\n",
              "      display: none;\n",
              "      fill: #1967D2;\n",
              "      height: 32px;\n",
              "      padding: 0 0 0 0;\n",
              "      width: 32px;\n",
              "    }\n",
              "\n",
              "    .colab-df-convert:hover {\n",
              "      background-color: #E2EBFA;\n",
              "      box-shadow: 0px 1px 2px rgba(60, 64, 67, 0.3), 0px 1px 3px 1px rgba(60, 64, 67, 0.15);\n",
              "      fill: #174EA6;\n",
              "    }\n",
              "\n",
              "    [theme=dark] .colab-df-convert {\n",
              "      background-color: #3B4455;\n",
              "      fill: #D2E3FC;\n",
              "    }\n",
              "\n",
              "    [theme=dark] .colab-df-convert:hover {\n",
              "      background-color: #434B5C;\n",
              "      box-shadow: 0px 1px 3px 1px rgba(0, 0, 0, 0.15);\n",
              "      filter: drop-shadow(0px 1px 2px rgba(0, 0, 0, 0.3));\n",
              "      fill: #FFFFFF;\n",
              "    }\n",
              "  </style>\n",
              "\n",
              "      <script>\n",
              "        const buttonEl =\n",
              "          document.querySelector('#df-cc470b2a-011c-4cb8-9e8d-4ed54c279302 button.colab-df-convert');\n",
              "        buttonEl.style.display =\n",
              "          google.colab.kernel.accessAllowed ? 'block' : 'none';\n",
              "\n",
              "        async function convertToInteractive(key) {\n",
              "          const element = document.querySelector('#df-cc470b2a-011c-4cb8-9e8d-4ed54c279302');\n",
              "          const dataTable =\n",
              "            await google.colab.kernel.invokeFunction('convertToInteractive',\n",
              "                                                     [key], {});\n",
              "          if (!dataTable) return;\n",
              "\n",
              "          const docLinkHtml = 'Like what you see? Visit the ' +\n",
              "            '<a target=\"_blank\" href=https://colab.research.google.com/notebooks/data_table.ipynb>data table notebook</a>'\n",
              "            + ' to learn more about interactive tables.';\n",
              "          element.innerHTML = '';\n",
              "          dataTable['output_type'] = 'display_data';\n",
              "          await google.colab.output.renderOutput(dataTable, element);\n",
              "          const docLink = document.createElement('div');\n",
              "          docLink.innerHTML = docLinkHtml;\n",
              "          element.appendChild(docLink);\n",
              "        }\n",
              "      </script>\n",
              "    </div>\n",
              "  </div>\n",
              "  "
            ]
          },
          "metadata": {},
          "execution_count": 28
        }
      ]
    },
    {
      "cell_type": "code",
      "source": [
        "\n",
        "\n",
        "submsn.to_csv('Driver_at_fault_submission.csv',index=False)\n"
      ],
      "metadata": {
        "id": "UZDaEL9smmnq"
      },
      "id": "UZDaEL9smmnq",
      "execution_count": 29,
      "outputs": []
    }
  ],
  "metadata": {
    "kernelspec": {
      "display_name": "Python 3 (ipykernel)",
      "language": "python",
      "name": "python3"
    },
    "language_info": {
      "codemirror_mode": {
        "name": "ipython",
        "version": 3
      },
      "file_extension": ".py",
      "mimetype": "text/x-python",
      "name": "python",
      "nbconvert_exporter": "python",
      "pygments_lexer": "ipython3",
      "version": "3.9.7"
    },
    "colab": {
      "provenance": []
    }
  },
  "nbformat": 4,
  "nbformat_minor": 5
}