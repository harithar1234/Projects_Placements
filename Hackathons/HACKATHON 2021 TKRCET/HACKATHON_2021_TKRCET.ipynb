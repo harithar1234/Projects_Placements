{
  "nbformat": 4,
  "nbformat_minor": 0,
  "metadata": {
    "colab": {
      "provenance": []
    },
    "kernelspec": {
      "name": "python3",
      "display_name": "Python 3"
    },
    "language_info": {
      "name": "python"
    }
  },
  "cells": [
    {
      "cell_type": "code",
      "source": [
        "import pandas as pd\n",
        "import numpy as np\n",
        "import tensorflow as tf\n",
        "from tensorflow import keras\n",
        "\n",
        "# Step 2: Load and Preprocess Data\n",
        "train_data = pd.read_csv('train.csv')\n",
        "test_data = pd.read_csv('test.csv')\n",
        "\n",
        "# Split the training data into features and labels\n",
        "train_labels = train_data['label']\n",
        "train_images = train_data.drop('label', axis=1)\n",
        "\n",
        "# Scale pixel values between 0 and 1\n",
        "train_images = train_images / 255.0\n",
        "test_images = test_data / 255.0\n",
        "\n",
        "# Reshape the image data into 28x28 format\n",
        "train_images = train_images.values.reshape(-1, 28, 28, 1)\n",
        "test_images = test_images.values.reshape(-1, 28, 28, 1)\n",
        "\n",
        "# Step 3: Build the CNN Model\n",
        "model = keras.Sequential([\n",
        "    keras.layers.Conv2D(32, (3, 3), activation='relu', input_shape=(28, 28, 1)),\n",
        "    keras.layers.MaxPooling2D((2, 2)),\n",
        "    keras.layers.Conv2D(64, (3, 3), activation='relu'),\n",
        "    keras.layers.MaxPooling2D((2, 2)),\n",
        "    keras.layers.Conv2D(64, (3, 3), activation='relu'),\n",
        "    keras.layers.Flatten(),\n",
        "    keras.layers.Dense(64, activation='relu'),\n",
        "    keras.layers.Dense(10, activation='softmax')\n",
        "])\n",
        "\n",
        "# Step 4: Compile and Train the Model\n",
        "model.compile(optimizer='adam',\n",
        "              loss='sparse_categorical_crossentropy',\n",
        "              metrics=['accuracy'])\n",
        "\n",
        "model.fit(train_images, train_labels, epochs=10, batch_size=64)\n",
        "\n",
        "# Step 5: Make Predictions\n",
        "predictions = model.predict(test_images)\n",
        "predicted_labels = np.argmax(predictions, axis=1)\n",
        "\n",
        "# Step 6: Create Submission File\n",
        "submission = pd.DataFrame({'ImageId': range(1, len(predicted_labels) + 1),\n",
        "                           'Label': predicted_labels})\n",
        "submission.to_csv('submission.csv', index=False)"
      ],
      "metadata": {
        "colab": {
          "base_uri": "https://localhost:8080/"
        },
        "id": "pc-xyAr6_kE6",
        "outputId": "1b85a700-248c-4ed6-b41c-bd14416dcf3c"
      },
      "execution_count": 16,
      "outputs": [
        {
          "output_type": "stream",
          "name": "stdout",
          "text": [
            "Epoch 1/10\n",
            "657/657 [==============================] - 43s 64ms/step - loss: 0.2375 - accuracy: 0.9272\n",
            "Epoch 2/10\n",
            "657/657 [==============================] - 42s 64ms/step - loss: 0.0606 - accuracy: 0.9816\n",
            "Epoch 3/10\n",
            "657/657 [==============================] - 43s 66ms/step - loss: 0.0437 - accuracy: 0.9863\n",
            "Epoch 4/10\n",
            "657/657 [==============================] - 42s 64ms/step - loss: 0.0335 - accuracy: 0.9893\n",
            "Epoch 5/10\n",
            "657/657 [==============================] - 42s 64ms/step - loss: 0.0256 - accuracy: 0.9919\n",
            "Epoch 6/10\n",
            "657/657 [==============================] - 43s 65ms/step - loss: 0.0213 - accuracy: 0.9930\n",
            "Epoch 7/10\n",
            "657/657 [==============================] - 42s 63ms/step - loss: 0.0192 - accuracy: 0.9940\n",
            "Epoch 8/10\n",
            "657/657 [==============================] - 41s 63ms/step - loss: 0.0144 - accuracy: 0.9954\n",
            "Epoch 9/10\n",
            "657/657 [==============================] - 43s 65ms/step - loss: 0.0136 - accuracy: 0.9953\n",
            "Epoch 10/10\n",
            "657/657 [==============================] - 41s 63ms/step - loss: 0.0107 - accuracy: 0.9966\n",
            "875/875 [==============================] - 9s 11ms/step\n"
          ]
        }
      ]
    }
  ]
}