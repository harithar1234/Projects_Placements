{
  "cells": [
    {
      "cell_type": "markdown",
      "source": [
        "**Problem3: Monte Carlo Tree Search**\n",
        ">AI20BTECH11010-Haritha"
      ],
      "metadata": {
        "id": "PVOXNBLHnzo4"
      }
    },
    {
      "cell_type": "code",
      "execution_count": null,
      "metadata": {
        "id": "LHWVW1Fi-lON"
      },
      "outputs": [],
      "source": [
        "#import necessary libraries\n",
        "import numpy as np\n",
        "from tqdm import tqdm\n",
        "import random\n"
      ]
    },
    {
      "cell_type": "markdown",
      "source": [
        "**A)**"
      ],
      "metadata": {
        "id": "3v6PwIuwBZte"
      }
    },
    {
      "cell_type": "code",
      "execution_count": null,
      "metadata": {
        "id": "ZJ0LGuPz-lOO"
      },
      "outputs": [],
      "source": [
        "def Num_positions_empty(state): # takes a state of the Tic-tac-toe board\n",
        "    num_empty=(state==0).sum()\n",
        "    return num_empty  #returns number of empty positions available in that state\n"
      ]
    },
    {
      "cell_type": "code",
      "source": [
        "class Tic_Tac_Toe_Board:\n",
        "    def __init__(self,state,player,parent):\n",
        "        self.state=state #current state\n",
        "        self.player=player  #which player\n",
        "        self.n=0  #Number of visits to the state\n",
        "        self.q=0  #action -value of the state\n",
        "        self.w=0 #wins count\n",
        "        self.l=0  #losses count\n",
        "        self.childs=Num_positions_empty(self.state) #Number of empty positions of that state\n",
        "        self.children=[]  #collection of Children of that state\n",
        "        self.parent=parent\n",
        "\n",
        "    def add_child(self,child):\n",
        "        self.children.append(child)  #child appending"
      ],
      "metadata": {
        "id": "un60YD86nhEi"
      },
      "execution_count": null,
      "outputs": []
    },
    {
      "cell_type": "code",
      "source": [
        "def child_addition(node):  #if an empty position is found , creating a possible new child\n",
        "    current_state=node.state.copy()\n",
        "    current_player=node.player\n",
        "    present_children_count=len(node.children)\n",
        "    Num_empty_positions=0\n",
        "    for i in range(3):\n",
        "        for j in range(3):\n",
        "            if current_state[i,j]==0:\n",
        "                Num_empty_positions+=1\n",
        "                if Num_empty_positions>present_children_count:\n",
        "                    current_state[i,j]=current_player\n",
        "                    new_child=Tic_Tac_Toe_Board(state=current_state,player=-1*current_player,parent=node)\n",
        "                    node.add_child(child=new_child)   # added new child\n",
        "                    return new_child\n"
      ],
      "metadata": {
        "id": "P9vMWczUsXDN"
      },
      "execution_count": null,
      "outputs": []
    },
    {
      "cell_type": "code",
      "source": [
        "#Selection of the best child of a node using ucb estimate\n",
        "def UCB_selection(node):\n",
        "    children_of_node=node.children\n",
        "    best_posible_child=children_of_node[0]\n",
        "    UCB_estimate=-100000 #keeps track of ucb estimate\n",
        "    for child in children_of_node:\n",
        "        current_player=child.player\n",
        "        action_value=current_player*child.q\n",
        "        explore=np.sqrt(np.log(node.n)/child.n)\n",
        "        if action_value+explore>UCB_estimate:\n",
        "            best_posible_child=child\n",
        "            UCB_estimate=action_value+explore\n",
        "    return best_posible_child\n",
        "\n"
      ],
      "metadata": {
        "id": "AWPmu_6WsRK8"
      },
      "execution_count": null,
      "outputs": []
    },
    {
      "cell_type": "code",
      "source": [
        "#one or more nodes(childs) are created , the subtree at the root is expanded\n",
        "def Expansion(root_of_subtree):\n",
        "    node=root_of_subtree\n",
        "    while node.childs<=len(node.children):\n",
        "        if (node.state==0).sum()==0:\n",
        "            return node\n",
        "        node=UCB_selection(node) #best node according to ucb estimate\n",
        "    if node.childs>node.n:\n",
        "        node=child_addition(node)\n",
        "    return node"
      ],
      "metadata": {
        "id": "RG5kiWXDppWw"
      },
      "execution_count": null,
      "outputs": []
    },
    {
      "cell_type": "code",
      "source": [
        "\n",
        "def current_status_of_game(state):\n",
        "  #checking the possibility of win of any player along row/column / diagonal\n",
        "  #return of 1 if player of symbol 1 has won\n",
        "  #return of -1 if player of symbol -1 has won\n",
        "  #return of 0 if match draw\n",
        "  #return of 2 if game still continues\n",
        "    for i in range(3):\n",
        "        if np.sum(state[:,i])==3:\n",
        "            return 1\n",
        "        elif np.sum(state[:,i])==-3:\n",
        "            return -1\n",
        "        if np.sum(state[i,:])==3:\n",
        "            return 1\n",
        "        elif np.sum(state[i,:])==-3:\n",
        "            return -1\n",
        "    if state[0,0]+state[1,1]+state[2,2]==3:\n",
        "        return 1\n",
        "    elif state[0,0]+state[1,1]+state[2,2]==-3:\n",
        "        return -1\n",
        "    if state[0,2]+state[1,1]+state[2,0]==3:\n",
        "        return 1\n",
        "    elif state[0,2]+state[1,1]+state[2,0]==-3:\n",
        "        return -1\n",
        "    if (state==0).sum()==0:\n",
        "        return 0\n",
        "    return 2\n",
        "\n"
      ],
      "metadata": {
        "id": "OF10mApOstgt"
      },
      "execution_count": null,
      "outputs": []
    },
    {
      "cell_type": "code",
      "source": [
        "def play_random_move(state,player):\n",
        "    #Player plays randomly\n",
        "    current_state=state.copy()\n",
        "    row_index,col_index=random.randint(0,2),random.randint(0,2)\n",
        "    while current_state[row_index,col_index]!=0:  #stops only if an empty position is found at random\n",
        "        row_index,col_index=random.randint(0,2),random.randint(0,2)\n",
        "    current_state[row_index,col_index]=player  #state updated\n",
        "    return current_state"
      ],
      "metadata": {
        "id": "c_om4LXgs6Fs"
      },
      "execution_count": null,
      "outputs": []
    },
    {
      "cell_type": "code",
      "source": [
        "#Playing of game (randomly)\n",
        "#One complete game is played\n",
        "def play_out(node):\n",
        "    current_state=node.state\n",
        "    current_player=node.player\n",
        "    while current_status_of_game(current_state)==2:  #game continues till the end(win by either of the players or draw)\n",
        "        current_state=play_random_move(current_state,current_player) # a random move is played by the player\n",
        "        current_player*=-1 # opponent player plays the next play\n",
        "    return current_status_of_game(current_state) #indicates which player won or draw"
      ],
      "metadata": {
        "id": "YMynbZ_hpvrq"
      },
      "execution_count": null,
      "outputs": []
    },
    {
      "cell_type": "code",
      "source": [
        "#the simulation result is propagated back until root node is met\n",
        "def Back_propagation(leaf,result):\n",
        "    node_current=leaf\n",
        "    while node_current!=None:\n",
        "        node_current.n+=1\n",
        "        if result==1:\n",
        "            node_current.w+=1\n",
        "        elif result==-1:\n",
        "            node_current.l+=1\n",
        "        node_current.q=(node_current.w-node_current.l)/node_current.n\n",
        "        node_current=node_current.parent # node updated to parent of that node"
      ],
      "metadata": {
        "id": "o-y0ww4-p2GN"
      },
      "execution_count": null,
      "outputs": []
    },
    {
      "cell_type": "code",
      "source": [
        "def best_child(node): #finding the best child of a node\n",
        "    children=node.children\n",
        "    best_child=children[0]\n",
        "    action_value_of_best_child=-1000  #-1000 is the worst possible action value possible\n",
        "    for child in children:\n",
        "        if child.q>action_value_of_best_child:\n",
        "            best_child=child\n",
        "            action_value_of_best_child=child.q\n",
        "    return best_child\n"
      ],
      "metadata": {
        "id": "r_NOLX2Ip-UB"
      },
      "execution_count": null,
      "outputs": []
    },
    {
      "cell_type": "code",
      "execution_count": null,
      "metadata": {
        "id": "Kja4P-dH-lOP"
      },
      "outputs": [],
      "source": [
        "#implementing Monte Carlo Tree Search\n",
        "#num= Number of games for taining\n",
        "def Monte_Carlo_Tree_Search(root,num):\n",
        "    for i in range(num):\n",
        "        leaf=Expansion(root)\n",
        "        simulation_result=play_out(leaf)\n",
        "        Back_propagation(leaf,simulation_result)\n",
        "    return best_child(root)\n"
      ]
    },
    {
      "cell_type": "markdown",
      "source": [
        "**B)**"
      ],
      "metadata": {
        "id": "7ZPBkhbSBo5W"
      }
    },
    {
      "cell_type": "code",
      "execution_count": null,
      "metadata": {
        "colab": {
          "base_uri": "https://localhost:8080/"
        },
        "id": "lodkpDJ4-lOP",
        "outputId": "c459452c-e3bd-4fc5-98ba-c3640a3c800f"
      },
      "outputs": [
        {
          "output_type": "stream",
          "name": "stdout",
          "text": [
            "Board before Play:\n",
            " [[ 1  0 -1]\n",
            " [ 0  1 -1]\n",
            " [ 0  0  0]]\n",
            "Board after Play:\n",
            " [[ 1  0 -1]\n",
            " [ 0  1 -1]\n",
            " [ 0  0  1]]\n"
          ]
        }
      ],
      "source": [
        "#A suitable board configuration in which the MCTS agent(symbol \"1\") is one move away from win\n",
        "Board_position=np.array([[1,0,-1],[0,1,-1],[0,0,0]])\n",
        "print(\"Board before Play:\\n\",Board_position)\n",
        "node=Tic_Tac_Toe_Board(state= Board_position,player=1,parent=None)\n",
        "Board_After_Play=Monte_Carlo_Tree_Search(node,1000)\n",
        "print(\"Board after Play:\\n\",Board_After_Play.state)"
      ]
    },
    {
      "cell_type": "code",
      "execution_count": null,
      "metadata": {
        "colab": {
          "base_uri": "https://localhost:8080/"
        },
        "id": "R7aAedGX-lOQ",
        "outputId": "40e0d4a8-d0ac-4716-a1dd-13c0ab2c279a"
      },
      "outputs": [
        {
          "output_type": "stream",
          "name": "stdout",
          "text": [
            "Board before Play:\n",
            " [[-1  1  1]\n",
            " [ 0 -1 -1]\n",
            " [-1  1  0]]\n",
            "Board after Play:\n",
            " [[-1  1  1]\n",
            " [ 1 -1 -1]\n",
            " [-1  1  0]]\n"
          ]
        }
      ],
      "source": [
        "# A suitable board configuration in which the MCTS agent(symbol \"1\") is one move away from loss\n",
        "Board_position= np.array([[-1,1,1],[0,-1,-1],[-1,1,0]])\n",
        "print(\"Board before Play:\\n\",Board_position)\n",
        "node=Tic_Tac_Toe_Board(state= Board_position,player=1,parent=None)\n",
        "Board_After_Play=Monte_Carlo_Tree_Search(node,1000)\n",
        "print(\"Board after Play:\\n\",Board_After_Play.state)"
      ]
    },
    {
      "cell_type": "code",
      "execution_count": null,
      "metadata": {
        "colab": {
          "base_uri": "https://localhost:8080/"
        },
        "id": "EVMLO33f-lOQ",
        "outputId": "ae7890c9-a1cb-4df8-8a21-c37bcf389799"
      },
      "outputs": [
        {
          "output_type": "stream",
          "name": "stdout",
          "text": [
            "Board before Play:\n",
            " [[ 0  0  0]\n",
            " [ 0 -1  0]\n",
            " [ 0  0  0]]\n",
            "Board after Play:\n",
            " [[ 0  0  1]\n",
            " [ 0 -1  0]\n",
            " [ 0  0  0]]\n"
          ]
        }
      ],
      "source": [
        "#The board configuration where the opponent has made the first move and has occupied the centre square\n",
        "Board_position= np.array([[0,0,0],[0,-1,0],[0,0,0]])\n",
        "print(\"Board before Play:\\n\",Board_position)\n",
        "node=Tic_Tac_Toe_Board(state= Board_position,player=1,parent=None)\n",
        "Board_After_Play=Monte_Carlo_Tree_Search(node,1000)\n",
        "print(\"Board after Play:\\n\",Board_After_Play.state)"
      ]
    },
    {
      "cell_type": "markdown",
      "source": [
        "**C)**"
      ],
      "metadata": {
        "id": "xbryAMo-nWQO"
      }
    },
    {
      "cell_type": "code",
      "source": [
        "#Opponent is randomly playing\n",
        "def random_opponent_agent(board_state):\n",
        "    row_index,col_index=random.randint(0,2),random.randint(0,2)\n",
        "    while board_state[row_index,col_index]!=0: #stops only if an empty position is found at random\n",
        "        row_index,col_index=random.randint(0,2),random.randint(0,2)\n",
        "    board_state[row_index,col_index]=-1 #opponent symbol \"-1\"\n",
        "    return board_state\n"
      ],
      "metadata": {
        "id": "DP5uAxhsJUXP"
      },
      "execution_count": null,
      "outputs": []
    },
    {
      "cell_type": "code",
      "source": [
        "#Opponent is safely playing\n",
        "#opponent symbol \"-1\"\n",
        "def safe_opponent_agent(board_state):\n",
        "    for i in range(3):\n",
        "        if board_state[i][0]+board_state[i][1]+board_state[i][2]==-2 or board_state[i][0]+board_state[i][1]+board_state[i][2]==2:\n",
        "            if (board_state[i][0]==-1 and board_state[i][1]==-1) or (board_state[i][0]==1 and board_state[i][1]==1):\n",
        "                board_state[i,2]=-1\n",
        "                return board_state\n",
        "            elif (board_state[i][0]==-1 and board_state[i][2]==-1) or (board_state[i][0]==1 and board_state[i][2]==1):\n",
        "                board_state[i,1]=-1\n",
        "                return board_state\n",
        "            else:\n",
        "                board_state[i,0]=-1\n",
        "                return board_state\n",
        "        elif board_state[0][i]+board_state[1][i]+board_state[2][i]==-2 or board_state[0][i]+board_state[1][i]+board_state[2][i]==2:\n",
        "            if (board_state[0][i]==-1 and board_state[1][i]==-1) or (board_state[0][i]==1 and board_state[1][i]==1):\n",
        "                board_state[2,i]=-1\n",
        "                return board_state\n",
        "            elif (board_state[0][i]==-1 and board_state[2][i]==-1) or (board_state[0][i]==1 and board_state[2][i]==1):\n",
        "                board_state[1,i]=-1\n",
        "                return board_state\n",
        "            else:\n",
        "                board_state[0,i]=-1\n",
        "                return board_state\n",
        "    if board_state[0][0]+board_state[1][1]+board_state[2][2]==-2 or board_state[0][0]+board_state[1][1]+board_state[2][2]==2:\n",
        "        if (board_state[0][0]==-1 and board_state[1][1]==-1) or (board_state[0][0]==1 and board_state[1][1]==1):\n",
        "            board_state[2,2]=-1\n",
        "            return board_state\n",
        "        elif (board_state[0][0]==-1 and board_state[2][2]==-1) or (board_state[0][0]==1 and board_state[2][2]==1):\n",
        "            board_state[1,1]=-1\n",
        "            return board_state\n",
        "        else:\n",
        "            board_state[0,0]=-1\n",
        "            return board_state\n",
        "    return random_opponent_agent(board_state)"
      ],
      "metadata": {
        "id": "puwkuottLxze"
      },
      "execution_count": null,
      "outputs": []
    },
    {
      "cell_type": "code",
      "execution_count": null,
      "metadata": {
        "id": "q7pzKT5R-lOQ"
      },
      "outputs": [],
      "source": [
        "\n",
        "def play(N,agent,Playing_position_first):\n",
        "  #Playing_position_first = True , then MCTS agent plays first\n",
        "    wins=0\n",
        "    losses=0\n",
        "    for i in tqdm(range(N),desc=\"Loading:\"):\n",
        "        state=np.zeros((3,3))\n",
        "        if Playing_position_first==True:\n",
        "            state=Monte_Carlo_Tree_Search(Tic_Tac_Toe_Board(state=state,player=1,parent=None),1000).state\n",
        "        while current_status_of_game(state)==2:\n",
        "            state=agent(state)\n",
        "            if current_status_of_game(state)==2:\n",
        "                state=Monte_Carlo_Tree_Search(Tic_Tac_Toe_Board(state=state,player=1,parent=None),1000).state\n",
        "            else:\n",
        "                break\n",
        "        if current_status_of_game(state)==1:\n",
        "            wins+=1\n",
        "        elif current_status_of_game(state)==-1:\n",
        "            losses+=1\n",
        "    return wins,losses, (1000-wins-losses)\n"
      ]
    },
    {
      "cell_type": "code",
      "execution_count": null,
      "metadata": {
        "colab": {
          "base_uri": "https://localhost:8080/"
        },
        "id": "fYN8Ia5K-lOR",
        "outputId": "3c5ac279-9342-4ed0-feb3-a3184dd82a2b"
      },
      "outputs": [
        {
          "output_type": "stream",
          "name": "stderr",
          "text": [
            "Loading:: 100%|██████████| 1000/1000 [35:49<00:00,  2.15s/it]"
          ]
        },
        {
          "output_type": "stream",
          "name": "stdout",
          "text": [
            "Playing against random player:\n",
            "wins: 973   losses: 12  draws: 15\n"
          ]
        },
        {
          "output_type": "stream",
          "name": "stderr",
          "text": [
            "\n"
          ]
        }
      ],
      "source": [
        "#against random player\n",
        "wins,losses,draws=play(1000,random_opponent_agent,True)\n",
        "print(\"Playing against random player:\")\n",
        "print(\"wins:\",wins,\"  losses:\",losses,\" draws:\",draws)"
      ]
    },
    {
      "cell_type": "code",
      "execution_count": null,
      "metadata": {
        "id": "br6ccAmf-lOR",
        "colab": {
          "base_uri": "https://localhost:8080/"
        },
        "outputId": "6c308b6a-8bbd-4ee5-e6d3-c34974e02bc1"
      },
      "outputs": [
        {
          "output_type": "stream",
          "name": "stderr",
          "text": [
            "Loading:: 100%|██████████| 1000/1000 [39:56<00:00,  2.40s/it]"
          ]
        },
        {
          "output_type": "stream",
          "name": "stdout",
          "text": [
            "Playing against safe player:\n",
            "wins: 653   losses: 68  draws: 279\n"
          ]
        },
        {
          "output_type": "stream",
          "name": "stderr",
          "text": [
            "\n"
          ]
        }
      ],
      "source": [
        "#against safe player\n",
        "wins,losses,draws=play(1000,safe_opponent_agent,True)\n",
        "print(\"Playing against safe player:\")\n",
        "print(\"wins:\",wins,\"  losses:\",losses,\" draws:\",draws)"
      ]
    },
    {
      "cell_type": "markdown",
      "source": [
        "**D)**"
      ],
      "metadata": {
        "id": "cOosP7KSnbV8"
      }
    },
    {
      "cell_type": "code",
      "source": [
        "def MCTS_vs_MCTS(N,Playing_position_first):\n",
        "    #Playing_position_first = True , then MCTS agent plays first\n",
        "    wins=0\n",
        "    losses=0\n",
        "    for i in tqdm(range(N),desc=\"Loading:\"):\n",
        "        state=np.zeros((3,3))\n",
        "        if Playing_position_first==True:\n",
        "            state=Monte_Carlo_Tree_Search(Tic_Tac_Toe_Board(state=state,player=1,parent=None),1000).state\n",
        "        while current_status_of_game(state)==2:\n",
        "            state*=-1\n",
        "            state=Monte_Carlo_Tree_Search(Tic_Tac_Toe_Board(state=state,player=1,parent=None),1000).state\n",
        "            state*=-1\n",
        "            if current_status_of_game(state)==2:\n",
        "                state=Monte_Carlo_Tree_Search(Tic_Tac_Toe_Board(state=state,player=1,parent=None),1000).state\n",
        "            else:\n",
        "                break\n",
        "        if current_status_of_game(state)==1:\n",
        "            wins+=1\n",
        "        elif current_status_of_game(state)==-1:\n",
        "            losses+=1\n",
        "    return wins,losses, (1000-wins-losses)"
      ],
      "metadata": {
        "id": "q9lknIQ5mIxd"
      },
      "execution_count": null,
      "outputs": []
    },
    {
      "cell_type": "code",
      "execution_count": null,
      "metadata": {
        "id": "xbFAYmzN-lOR",
        "colab": {
          "base_uri": "https://localhost:8080/"
        },
        "outputId": "b573f7df-3193-49eb-f21f-5078717fe261"
      },
      "outputs": [
        {
          "output_type": "stream",
          "name": "stderr",
          "text": [
            "Loading:: 100%|██████████| 1000/1000 [1:03:29<00:00,  3.81s/it]"
          ]
        },
        {
          "output_type": "stream",
          "name": "stdout",
          "text": [
            "Playing (first move )against MCTS player :\n",
            "wins: 617   losses: 135  draws: 248\n"
          ]
        },
        {
          "output_type": "stream",
          "name": "stderr",
          "text": [
            "\n"
          ]
        }
      ],
      "source": [
        "#against mcts playing first\n",
        "wins,losses,draws=MCTS_vs_MCTS(1000,True)\n",
        "print(\"Playing (first move )against MCTS player :\")\n",
        "print(\"wins:\",wins,\"  losses:\",losses,\" draws:\",draws)"
      ]
    },
    {
      "cell_type": "code",
      "execution_count": null,
      "metadata": {
        "id": "Wy8hhChu-lOS",
        "colab": {
          "base_uri": "https://localhost:8080/"
        },
        "outputId": "ac97b95a-5aad-4283-fa54-2611dd103f61"
      },
      "outputs": [
        {
          "output_type": "stream",
          "name": "stderr",
          "text": [
            "Loading:: 100%|██████████| 1000/1000 [59:08<00:00,  3.55s/it]"
          ]
        },
        {
          "output_type": "stream",
          "name": "stdout",
          "text": [
            "Playing (second move )against MCTS player:\n",
            "wins: 175   losses: 590  draws: 235\n"
          ]
        },
        {
          "output_type": "stream",
          "name": "stderr",
          "text": [
            "\n"
          ]
        }
      ],
      "source": [
        "#against mcts playing second\n",
        "wins,losses,draws=MCTS_vs_MCTS(1000,False)\n",
        "print(\"Playing (second move )against MCTS player:\")\n",
        "print(\"wins:\",wins,\"  losses:\",losses,\" draws:\",draws)"
      ]
    },
    {
      "cell_type": "markdown",
      "metadata": {
        "id": "HezsNa9T-lOS"
      },
      "source": [
        "From the above results, we know for sure that the first player has a higher chance of winning when both the players use MCTS strategy."
      ]
    }
  ],
  "metadata": {
    "interpreter": {
      "hash": "31f2aee4e71d21fbe5cf8b01ff0e069b9275f58929596ceb00d14d90e3e16cd6"
    },
    "kernelspec": {
      "display_name": "Python 3.8.10 64-bit",
      "name": "python3"
    },
    "language_info": {
      "codemirror_mode": {
        "name": "ipython",
        "version": 3
      },
      "file_extension": ".py",
      "mimetype": "text/x-python",
      "name": "python",
      "nbconvert_exporter": "python",
      "pygments_lexer": "ipython3",
      "version": "3.8.10"
    },
    "orig_nbformat": 4,
    "colab": {
      "provenance": []
    }
  },
  "nbformat": 4,
  "nbformat_minor": 0
}