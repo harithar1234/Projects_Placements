{
  "nbformat": 4,
  "nbformat_minor": 0,
  "metadata": {
    "colab": {
      "provenance": []
    },
    "kernelspec": {
      "name": "python3",
      "display_name": "Python 3"
    },
    "language_info": {
      "name": "python"
    }
  },
  "cells": [
    {
      "cell_type": "markdown",
      "source": [
        "**Game of Tic-Tac-Toe**\n",
        ">Q-Learning\n",
        ">>Haritha.R\n",
        ">>>AI20BTECH11010"
      ],
      "metadata": {
        "id": "mcfMt1bALPwq"
      }
    },
    {
      "cell_type": "code",
      "execution_count": 1,
      "metadata": {
        "id": "hIQ4f2PsLNu_"
      },
      "outputs": [],
      "source": [
        "#Importing necessary libraries\n",
        "import numpy as np\n",
        "import matplotlib.pyplot as plt\n",
        "import random"
      ]
    },
    {
      "cell_type": "code",
      "source": [
        "# tic-tac-toe board is of shape 3*3\n",
        "shape_board = 3\n",
        "\n",
        "#total number of games required for training each opponent\n",
        "num_training = 10000\n",
        "\n",
        "# total number of games used for final testing\n",
        "num_testing= 1000\n",
        "\n",
        "# number of games after which we test the efficacy of the trained agent\n",
        "num_test_after_train = 200\n",
        "\n",
        "# number of games played with the opponent using the full greedy policy with respect to the current Q-table to test the trained agent\n",
        "num_test_greedy = 100"
      ],
      "metadata": {
        "id": "keb2bhejNGjm"
      },
      "execution_count": 2,
      "outputs": []
    },
    {
      "cell_type": "code",
      "source": [
        "# Tic-Tac-Toe Game\n",
        "class Tic_Tac_Toe(object):\n",
        "\n",
        "    # all parameters are created and initialised using this constructor function\n",
        "    def __init__(self, num):\n",
        "        self.n = num\n",
        "        self.board = np.zeros((num, num))\n",
        "        self.is_end_reached = False\n",
        "\n",
        "    # initialises the board to the start to all empty positions\n",
        "    def init(self):\n",
        "        self.board = np.zeros((self.n, self.n))\n",
        "        self.is_end_reached = False\n",
        "\n",
        "    # act function : takes the move\n",
        "    #checks if the move is valid and places the symbol in the appropriate board position.\n",
        "    def act(self, move , symbol):\n",
        "\n",
        "        positions_empty=self.positions_available()\n",
        "        # checks if move is free position\n",
        "        if(move in positions_empty):\n",
        "          self.board[move] = symbol\n",
        "\n",
        "    # returns empty board positions of the board\n",
        "    def positions_available(self):\n",
        "        positions_empty = []\n",
        "        for i in range(self.n):\n",
        "            for j in range(self.n):\n",
        "                if self.board[i, j] == 0:\n",
        "                    positions_empty.append((i, j))\n",
        "        return positions_empty\n",
        "\n",
        "    # check if there is a winner in the board\n",
        "    def any_winner(self):\n",
        "        # check if any of rows are all equal\n",
        "        for i in range(self.n):\n",
        "            row_sum = sum(self.board[i, :])\n",
        "            if row_sum == self.n:\n",
        "                self.is_end_reached = True\n",
        "                return 1  #agent is the winner\n",
        "            if row_sum == -self.n:\n",
        "                self.is_end_reached = True\n",
        "                return -1  #opponent is the winner\n",
        "\n",
        "        # check if any of columns are all equal\n",
        "        for i in range(self.n):\n",
        "            col_sum = sum(self.board[:, i])\n",
        "            if col_sum == self.n:\n",
        "                self.is_end_reached = True\n",
        "                return 1 #agent is the winner\n",
        "            if col_sum == -self.n:\n",
        "                self.is_end_reached = True\n",
        "                return -1  #opponent is the winner\n",
        "\n",
        "        # check if any of diagonal are all equal\n",
        "        diagonal_sum1 = sum([self.board[i, i] for i in range(self.n)])\n",
        "        diagonal_sum2 = sum([self.board[i, self.n - i -1] for i in range(self.n)])\n",
        "        if diagonal_sum1 == self.n or diagonal_sum2 == self.n:\n",
        "            self.is_end_reached = True\n",
        "            return 1 #agent is the winner\n",
        "        if diagonal_sum1 == -self.n or diagonal_sum2 == -self.n:\n",
        "            self.is_end_reached = True\n",
        "            return -1 #opponent is the winner\n",
        "\n",
        "        # if there are no positions left\n",
        "        if len(self.positions_available()) == 0:\n",
        "            self.is_end_reached = True\n",
        "            return 0 #draw:board filled and no winner\n",
        "\n",
        "        # if there are empty spaces left to play then continue the game\n",
        "        self.is_end_reached = False\n",
        "        return None\n",
        "\n",
        "    # return reward for the present state\n",
        "    def reward(self):\n",
        "        result = self.any_winner()\n",
        "        if result == 1:\n",
        "            return 10  # reward label if agent wins\n",
        "        if result == -1:\n",
        "            return -10 # reward label if agent looses\n",
        "        if result == 0:\n",
        "            return 1   # reward label if game draw\n",
        "        return 0  # reward if game continuing\n",
        "\n",
        "    # return current state of board as a string\n",
        "    def current_state(self):\n",
        "        return str(self.board.reshape(self.n*self.n))\n",
        "\n",
        "    #prints the tic tac toe game board\n",
        "    def print_board(self):\n",
        "       print(self.board)\n"
      ],
      "metadata": {
        "id": "w3TOmrv_NX0B"
      },
      "execution_count": 3,
      "outputs": []
    },
    {
      "cell_type": "code",
      "source": [
        "\n",
        "# Random Agent\n",
        "class Random_Agent(object):\n",
        "\n",
        "    # random agent picks a square among all available empty squares in a uniform random fashion\n",
        "    def policy(self, game_tic_tac_toe_board):\n",
        "        # finds available actions\n",
        "        actions = game_tic_tac_toe_board.positions_available()\n",
        "\n",
        "        # returns a random action among the available actions\n",
        "        return random.choice(actions)\n"
      ],
      "metadata": {
        "id": "d3t4tEFeNeTT"
      },
      "execution_count": 4,
      "outputs": []
    },
    {
      "cell_type": "code",
      "source": [
        "\n",
        "# Safe Agent\n",
        "class Safe_Agent(object):\n",
        "\n",
        "    def policy(self, game_tic_tac_toe_board):\n",
        "        # finds available actions\n",
        "        actions = game_tic_tac_toe_board.positions_available()\n",
        "\n",
        "        # checking possibility of win in any row\n",
        "        for i in range(game_tic_tac_toe_board.n):\n",
        "            sum_row = sum(game_tic_tac_toe_board.board[i, :])\n",
        "            if sum_row == 1 - game_tic_tac_toe_board.n:\n",
        "                return (i, list(game_tic_tac_toe_board.board[i, :]).index(0))\n",
        "\n",
        "        # checking possibility of win in any column\n",
        "        for i in range(game_tic_tac_toe_board.n):\n",
        "            sum_column = sum(game_tic_tac_toe_board.board[:, i])\n",
        "            if sum_column == 1 - game_tic_tac_toe_board.n:\n",
        "                return (list(game_tic_tac_toe_board.board[:, i]).index(0), i)\n",
        "\n",
        "        # checking possiblity of win in any of the diagonals\n",
        "        diagonal_1 = [game_tic_tac_toe_board.board[i, i] for i in range(game_tic_tac_toe_board.n)]\n",
        "        diagonal_2 = [game_tic_tac_toe_board.board[i, game_tic_tac_toe_board.n - i -1] for i in range(game_tic_tac_toe_board.n)]\n",
        "\n",
        "        if sum(diagonal_1) == 1 - game_tic_tac_toe_board.n:\n",
        "            return (diagonal_1.index(0), diagonal_1.index(0))\n",
        "\n",
        "        if sum(diagonal_2) == 1 - game_tic_tac_toe_board.n:\n",
        "            return (diagonal_2.index(0), game_tic_tac_toe_board.n - 1 - diagonal_2.index(0))\n",
        "\n",
        "        # checking possibility of block in any row\n",
        "        for i in range(game_tic_tac_toe_board.n):\n",
        "            sum_row = sum(game_tic_tac_toe_board.board[i, :])\n",
        "            if sum_row == game_tic_tac_toe_board.n - 1:\n",
        "                return (i, list(game_tic_tac_toe_board.board[i, :]).index(0))\n",
        "\n",
        "        # checking possibility of block in any column\n",
        "        for i in range(game_tic_tac_toe_board.n):\n",
        "            sum_column = sum(game_tic_tac_toe_board.board[:, i])\n",
        "            if sum_column == game_tic_tac_toe_board.n - 1:\n",
        "                return (list(game_tic_tac_toe_board.board[:, i]).index(0), i)\n",
        "\n",
        "        # checking possiblity of block in any of the diagonals\n",
        "        diagonal_1 = [game_tic_tac_toe_board.board[i, i] for i in range(game_tic_tac_toe_board.n)]\n",
        "        diagonal_2 = [game_tic_tac_toe_board.board[i, game_tic_tac_toe_board.n - i -1] for i in range(game_tic_tac_toe_board.n)]\n",
        "\n",
        "        if sum(diagonal_1) == game_tic_tac_toe_board.n - 1:\n",
        "            return (diagonal_1.index(0), diagonal_1.index(0))\n",
        "\n",
        "        if sum(diagonal_2) == game_tic_tac_toe_board.n - 1:\n",
        "            return (diagonal_2.index(0), game_tic_tac_toe_board.n - 1 - diagonal_2.index(0))\n",
        "\n",
        "        # if there is no winning or blocking moves availabe , then the agent acts randomly\n",
        "        return random.choice(actions)\n",
        "\n"
      ],
      "metadata": {
        "id": "xPc9iHXsNnd7"
      },
      "execution_count": 5,
      "outputs": []
    },
    {
      "cell_type": "code",
      "source": [
        "\n",
        "class Agent_Qlearn(object):\n",
        "\n",
        "    # all parameters are created and initialised using this constructor function\n",
        "    def __init__(self):\n",
        "        self.gamma = 0.9\n",
        "        self.epsilon = 0.05\n",
        "        self.alpha = 0.05\n",
        "        self.Q_table = {}\n",
        "\n",
        "    # Choosing action that can be executed at a state\n",
        "    def action_selected(self, game_tic_tac_toe_board):\n",
        "        # find actions that can be performed\n",
        "        actions = game_tic_tac_toe_board.positions_available()\n",
        "\n",
        "        # choose the type of exploration\n",
        "        p = random.random()\n",
        "\n",
        "        # random round\n",
        "        if p < self.epsilon:\n",
        "            return random.choice(actions)\n",
        "        else:\n",
        "            return self.policy_action_select(game_tic_tac_toe_board, actions)\n",
        "\n",
        "    # choosing best action with highest Q(s,a) value\n",
        "    def policy_action_select(self, game_tic_tac_toe_board, actions):\n",
        "        # current state of game_tic_tac_toe_board\n",
        "        s = game_tic_tac_toe_board.current_state()\n",
        "\n",
        "        # select the best action for the state\n",
        "        max_value = max([self.Q_s_a(s, a) for a in actions])\n",
        "        max_actions = [a for a in actions if self.Q_s_a(s,a) == max_value]\n",
        "        return random.choice(max_actions)\n",
        "\n",
        "    # Q(s, a) from Q table\n",
        "    def Q_s_a(self, s, a):\n",
        "        if (s, a) in self.Q_table:\n",
        "            return self.Q_table[(s, a)]\n",
        "        self.Q_table[(s, a)] = 0\n",
        "        return self.Q_table[(s, a)]\n",
        "\n",
        "    #observing each and every state of the Board after actions\n",
        "    def observe(self, game_tic_tac_toe_board, state_before_agent, action_performed, state_after_agent):\n",
        "        # find available actions\n",
        "        actions = game_tic_tac_toe_board.positions_available()\n",
        "\n",
        "        # reward of present state\n",
        "        reward = game_tic_tac_toe_board.reward()\n",
        "\n",
        "        # update Q table\n",
        "        if len(actions) == 0:\n",
        "            max_value = 0\n",
        "        else:\n",
        "            max_value = max([self.Q_s_a(state_after_agent, a) for a in actions])\n",
        "        self.Q_table[(state_before_agent, action_performed)] = self.Q_s_a(state_before_agent, action_performed) + self.alpha*(reward + self.gamma*max_value - self.Q_s_a(state_before_agent, action_performed))\n",
        "\n"
      ],
      "metadata": {
        "id": "LMbEtsIzN2uZ"
      },
      "execution_count": 6,
      "outputs": []
    },
    {
      "cell_type": "code",
      "source": [
        "# function for playing opponent turn\n",
        "def playing_opponent_turn(game_tic_tac_toe_board, opponent):\n",
        "    # choose the appropriate action using the policy of the opponent\n",
        "    opponent_action = opponent.policy(game_tic_tac_toe_board)\n",
        "\n",
        "    game_tic_tac_toe_board.act(opponent_action, -1)   #opponent symbol = 'O' = -1\n",
        "\n",
        "    return game_tic_tac_toe_board, opponent_action"
      ],
      "metadata": {
        "id": "8jHSwoNvWl2h"
      },
      "execution_count": 7,
      "outputs": []
    },
    {
      "cell_type": "code",
      "source": [
        "# function for playing agent turn\n",
        "def playing_agent_turn(game_tic_tac_toe_board, agent):\n",
        "    # choose the best move by the agent\n",
        "    agent_action = agent.action_selected(game_tic_tac_toe_board)\n",
        "\n",
        "    game_tic_tac_toe_board.act(agent_action, 1)  #agent symbol = 'X' = 1\n",
        "\n",
        "    return game_tic_tac_toe_board, agent_action"
      ],
      "metadata": {
        "id": "uC5PrWI9WlrJ"
      },
      "execution_count": 8,
      "outputs": []
    },
    {
      "cell_type": "code",
      "source": [
        "# function to test the agent against different opponents\n",
        "def testing(game_tic_tac_toe_board, agent_policy ,opponent_policy,  num_rounds = num_test_greedy, debug = False):\n",
        "    rewards_obtained = []\n",
        "\n",
        "    #testing the trained agent num_rounds times\n",
        "    for game_no in range(num_rounds):\n",
        "        # Initialise the game_tic_tac_toe_board to start for this game\n",
        "        game_tic_tac_toe_board.init()\n",
        "\n",
        "        # first move is choosen using fair toss\n",
        "        turn = random.choice([-1, 1])\n",
        "\n",
        "        # if the first turn is opponent's\n",
        "        if turn == -1:\n",
        "            game_tic_tac_toe_board, opponent_action_performed = playing_opponent_turn(game_tic_tac_toe_board, opponent_policy)\n",
        "\n",
        "        # Recursively play agent turn and opponent turn until game ends\n",
        "        while not game_tic_tac_toe_board.is_end_reached:\n",
        "            # Play agent turn\n",
        "            game_tic_tac_toe_board, agent_action_performed = playing_agent_turn(game_tic_tac_toe_board, agent_policy)\n",
        "\n",
        "            # check winner\n",
        "            winner = game_tic_tac_toe_board.any_winner()\n",
        "\n",
        "            # if winner is not yet decided\n",
        "            if winner is None:\n",
        "                # play the opponent turn\n",
        "                game_tic_tac_toe_board, opponent_action_performed = playing_opponent_turn(game_tic_tac_toe_board, opponent_policy)\n",
        "\n",
        "            # collect reward after each turn\n",
        "            reward = game_tic_tac_toe_board.reward()\n",
        "        # store reward after each game\n",
        "        rewards_obtained.append(reward)\n",
        "\n",
        "\n",
        "    if(debug == True):\n",
        "        print(\"number of wins: \",rewards_obtained.count(10))\n",
        "        print(\"number of loss: \",rewards_obtained.count(-10))\n",
        "        print(\"number of ties:\", rewards_obtained.count(1))\n",
        "\n",
        "    # number of wins\n",
        "    return rewards_obtained.count(10)\n",
        "\n"
      ],
      "metadata": {
        "id": "EYoce4zMWlUw"
      },
      "execution_count": 9,
      "outputs": []
    },
    {
      "cell_type": "code",
      "source": [
        "# function to train the agent against different opponents\n",
        "def train(game_tic_tac_toe_board, agent_policy ,opponents_list):\n",
        "    train_wins = []\n",
        "\n",
        "    for game_no in range(num_training):\n",
        "        # Initialise the game_tic_tac_toe_board to start for this game\n",
        "        game_tic_tac_toe_board.init()\n",
        "\n",
        "        # Choose one of the opponent for this game\n",
        "        opponent_policy = random.choice(opponents_list)\n",
        "\n",
        "        # first move is choosen using fair toss\n",
        "        turn = random.choice([-1, 1])\n",
        "\n",
        "        # if first turn is opponent's turn\n",
        "        if turn == -1:\n",
        "            game_tic_tac_toe_board, opponent_action_performed = playing_opponent_turn(game_tic_tac_toe_board, opponent_policy)\n",
        "\n",
        "        # Recursively play agent turn and opponent turn until game ends\n",
        "        while not game_tic_tac_toe_board.is_end_reached:\n",
        "\n",
        "            state_before_agent = game_tic_tac_toe_board.current_state()\n",
        "            game_tic_tac_toe_board, agent_action_performed = playing_agent_turn(game_tic_tac_toe_board, agent_policy)\n",
        "            state_after_agent = game_tic_tac_toe_board.current_state()\n",
        "            # check winner\n",
        "            winner = game_tic_tac_toe_board.any_winner()\n",
        "            # if winner is not yet decided\n",
        "            if winner is None:\n",
        "                # play opponent turn\n",
        "                game_tic_tac_toe_board, opponent_action_performed = playing_opponent_turn(game_tic_tac_toe_board, opponent_policy)\n",
        "                # state before agent turn\n",
        "                state_after_agent = game_tic_tac_toe_board.current_state()\n",
        "\n",
        "            # Observe the game_tic_tac_toe_board after this move\n",
        "            agent_policy.observe(game_tic_tac_toe_board, state_before_agent, agent_action_performed, state_after_agent)\n",
        "\n",
        "        # After every 200 games assess the efficacy of the training\n",
        "        if game_no % num_test_after_train == 0:\n",
        "            num_wins = testing(game_tic_tac_toe_board, agent_policy, opponent_policy)\n",
        "            train_wins.append(num_wins)\n",
        "\n",
        "    # return the trained agent\n",
        "    return agent_policy, train_wins\n",
        "\n"
      ],
      "metadata": {
        "id": "0LI0WeFNW0tr"
      },
      "execution_count": 10,
      "outputs": []
    },
    {
      "cell_type": "code",
      "source": [
        "def plotting(random_agent_train, safe_agent_train, both_agent_train):\n",
        "    plt.title(\" Training progress graph\")\n",
        "    plt.xlabel(\"Epoch\")\n",
        "    plt.ylabel(\"Wins count\")\n",
        "    epochs = np.arange(0,num_training , num_test_after_train)\n",
        "    plt.plot(epochs, random_agent_train, label = \"random\")\n",
        "    plt.plot(epochs, safe_agent_train, label = \"safe\")\n",
        "    plt.plot(epochs, both_agent_train, label = \"both\")\n",
        "    plt.legend()\n",
        "    plt.show()"
      ],
      "metadata": {
        "id": "87t_fGj2XQWZ"
      },
      "execution_count": 11,
      "outputs": []
    },
    {
      "cell_type": "code",
      "source": [
        "# create the board\n",
        "game_tic_tac_toe_board = Tic_Tac_Toe(shape_board)\n",
        "\n",
        "#Training\n",
        "#Training against Random Opponents\n",
        "random_opponent = Random_Agent()\n",
        "random_agent = Agent_Qlearn()\n",
        "random_agent, random_agent_train_wins = train(game_tic_tac_toe_board, random_agent, [random_opponent])\n",
        "\n",
        "\n",
        "#Training against Safe Opponents\n",
        "safe_opponent = Safe_Agent()\n",
        "safe_agent = Agent_Qlearn()\n",
        "safe_agent, safe_agent_train_wins = train(game_tic_tac_toe_board, safe_agent, [safe_opponent])\n",
        "\n",
        "\n",
        "#Training against Safe and random Opponents\n",
        "both_agent = Agent_Qlearn()\n",
        "both_agent, both_agent_train_wins = train(game_tic_tac_toe_board, both_agent,[random_opponent, safe_opponent])\n",
        "\n",
        "plotting(random_agent_train_wins, safe_agent_train_wins, both_agent_train_wins)\n",
        "\n"
      ],
      "metadata": {
        "colab": {
          "base_uri": "https://localhost:8080/",
          "height": 472
        },
        "id": "oq3LzPvAXWVd",
        "outputId": "f9fb8662-c73c-43f1-a5d0-95719f6fe0ea"
      },
      "execution_count": 12,
      "outputs": [
        {
          "output_type": "display_data",
          "data": {
            "text/plain": [
              "<Figure size 640x480 with 1 Axes>"
            ],
            "image/png": "[encoded data removed]"
          },
          "metadata": {}
        }
      ]
    },
    {
      "cell_type": "code",
      "source": [
        "# Testing\n",
        "# Randomly Trained agent vs Random player\n",
        "print(\"Test Against Randomly Trained agent vs Random opponent \")\n",
        "testing(game_tic_tac_toe_board, random_agent, random_opponent, num_testing, debug=True)\n",
        "\n",
        "# Randomly Trained agent vs Safe Player\n",
        "print(\"Test Against Randomly Trained agent vs Safe opponent\")\n",
        "testing(game_tic_tac_toe_board, random_agent, safe_opponent,  num_testing, debug=True)\n",
        "\n",
        "# Safely Trained agent vs Random Player\n",
        "print(\"Test Against Safely Trained agent vs Random opponent \")\n",
        "testing(game_tic_tac_toe_board, safe_agent, random_opponent,  num_testing, debug=True)\n",
        "\n",
        "# Safely Trained agent vs Safe Player\n",
        "print(\"Test Against Safely Trained agent vs Safe opponent\")\n",
        "testing(game_tic_tac_toe_board, safe_agent, safe_opponent,  num_testing , debug=True)\n",
        "\n",
        "# Both Trained agent vs Randomly Player\n",
        "print(\"Test Against Both Trained agent vs Random opponent\")\n",
        "testing(game_tic_tac_toe_board, both_agent, random_opponent,  num_testing, debug=True)\n",
        "\n",
        "# Both Trained agent vs Safe Player\n",
        "print(\"Test Against Both Trained agent vs Safe opponent\")\n",
        "testing(game_tic_tac_toe_board, both_agent, random_opponent,  num_testing, debug=True)\n",
        "\n"
      ],
      "metadata": {
        "colab": {
          "base_uri": "https://localhost:8080/"
        },
        "id": "XDmAGNVs_all",
        "outputId": "d0bc2e46-a702-4152-90bc-0560b1747e7e"
      },
      "execution_count": 13,
      "outputs": [
        {
          "output_type": "stream",
          "name": "stdout",
          "text": [
            "Test Against Randomly Trained agent vs Random opponent \n",
            "number of wins:  770\n",
            "number of loss:  76\n",
            "number of ties: 154\n",
            "Test Against Randomly Trained agent vs Safe opponent\n",
            "number of wins:  171\n",
            "number of loss:  406\n",
            "number of ties: 423\n",
            "Test Against Safely Trained agent vs Random opponent \n",
            "number of wins:  583\n",
            "number of loss:  192\n",
            "number of ties: 225\n",
            "Test Against Safely Trained agent vs Safe opponent\n",
            "number of wins:  236\n",
            "number of loss:  113\n",
            "number of ties: 651\n",
            "Test Against Both Trained agent vs Random opponent\n",
            "number of wins:  762\n",
            "number of loss:  46\n",
            "number of ties: 192\n",
            "Test Against Both Trained agent vs Safe opponent\n",
            "number of wins:  756\n",
            "number of loss:  61\n",
            "number of ties: 183\n"
          ]
        },
        {
          "output_type": "execute_result",
          "data": {
            "text/plain": [
              "756"
            ]
          },
          "metadata": {},
          "execution_count": 13
        }
      ]
    },
    {
      "cell_type": "code",
      "source": [
        "game_tic_tac_toe_board.print_board()"
      ],
      "metadata": {
        "id": "1c3g08rrW1Ps",
        "colab": {
          "base_uri": "https://localhost:8080/"
        },
        "outputId": "f9733012-6d91-4306-f6e7-ddb147e599d6"
      },
      "execution_count": 14,
      "outputs": [
        {
          "output_type": "stream",
          "name": "stdout",
          "text": [
            "[[ 1. -1. -1.]\n",
            " [ 0.  1. -1.]\n",
            " [ 0.  1.  1.]]\n"
          ]
        }
      ]
    }
  ]
}